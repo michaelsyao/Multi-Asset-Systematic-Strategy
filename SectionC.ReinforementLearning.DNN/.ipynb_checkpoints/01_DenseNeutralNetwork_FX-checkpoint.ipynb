{
 "cells": [
  {
   "cell_type": "markdown",
   "metadata": {
    "colab_type": "text",
    "id": "view-in-github"
   },
   "source": [
    "<a href=\"https://colab.research.google.com/github/michaelsyao/Multi-Asset-Systematic-Strategy/blob/main/01_DenseNeutralNetwork_FX.ipynb\" target=\"_parent\"><img src=\"https://colab.research.google.com/assets/colab-badge.svg\" alt=\"Open In Colab\"/></a>"
   ]
  },
  {
   "cell_type": "markdown",
   "metadata": {
    "id": "VdfCcgLArh2N"
   },
   "source": [
    "## Dense Neural Networks"
   ]
  },
  {
   "cell_type": "code",
   "execution_count": 5,
   "metadata": {
    "id": "18YjPAsvrigG"
   },
   "outputs": [],
   "source": [
    "import os\n",
    "import numpy as np\n",
    "import pandas as pd\n",
    "from pylab import plt, mpl\n",
    "plt.style.use('seaborn')\n",
    "mpl.rcParams['savefig.dpi'] = 300\n",
    "mpl.rcParams['font.family'] = 'serif'\n",
    "\n",
    "pd.set_option('precision', 4)\n",
    "np.set_printoptions(suppress=True, precision=4)\n",
    "\n",
    "os.environ['PYTHONHASHSEED'] = '0'"
   ]
  },
  {
   "cell_type": "markdown",
   "metadata": {
    "id": "CmRHgqF8rmB4"
   },
   "source": [
    "## The Data"
   ]
  },
  {
   "cell_type": "code",
   "execution_count": 6,
   "metadata": {
    "id": "oyyOHrKYrn3T"
   },
   "outputs": [],
   "source": [
    "url = 'http://hilpisch.com/aiif_eikon_id_eur_usd.csv'"
   ]
  },
  {
   "cell_type": "code",
   "execution_count": 7,
   "metadata": {
    "id": "g3ljTNsQrrJ6"
   },
   "outputs": [],
   "source": [
    "symbol = 'EUR_USD'"
   ]
  },
  {
   "cell_type": "code",
   "execution_count": 8,
   "metadata": {
    "id": "6r3U1G_fry-j"
   },
   "outputs": [],
   "source": [
    "raw = pd.read_csv(url, index_col=0, parse_dates=True)"
   ]
  },
  {
   "cell_type": "code",
   "execution_count": 9,
   "metadata": {
    "colab": {
     "base_uri": "https://localhost:8080/",
     "height": 237
    },
    "id": "9pVvYTNPr0Wg",
    "outputId": "a4401762-2e7c-41c6-c1d4-7ae1290ce362"
   },
   "outputs": [
    {
     "data": {
      "text/html": [
       "\n",
       "  <div id=\"df-b708dd3a-d0cc-4e28-a22d-3ca4a837ca3c\">\n",
       "    <div class=\"colab-df-container\">\n",
       "      <div>\n",
       "<style scoped>\n",
       "    .dataframe tbody tr th:only-of-type {\n",
       "        vertical-align: middle;\n",
       "    }\n",
       "\n",
       "    .dataframe tbody tr th {\n",
       "        vertical-align: top;\n",
       "    }\n",
       "\n",
       "    .dataframe thead th {\n",
       "        text-align: right;\n",
       "    }\n",
       "</style>\n",
       "<table border=\"1\" class=\"dataframe\">\n",
       "  <thead>\n",
       "    <tr style=\"text-align: right;\">\n",
       "      <th></th>\n",
       "      <th>HIGH</th>\n",
       "      <th>LOW</th>\n",
       "      <th>OPEN</th>\n",
       "      <th>CLOSE</th>\n",
       "    </tr>\n",
       "    <tr>\n",
       "      <th>Date</th>\n",
       "      <th></th>\n",
       "      <th></th>\n",
       "      <th></th>\n",
       "      <th></th>\n",
       "    </tr>\n",
       "  </thead>\n",
       "  <tbody>\n",
       "    <tr>\n",
       "      <th>2019-10-01 00:00:00</th>\n",
       "      <td>1.0899</td>\n",
       "      <td>1.0897</td>\n",
       "      <td>1.0897</td>\n",
       "      <td>1.0899</td>\n",
       "    </tr>\n",
       "    <tr>\n",
       "      <th>2019-10-01 00:01:00</th>\n",
       "      <td>1.0899</td>\n",
       "      <td>1.0896</td>\n",
       "      <td>1.0899</td>\n",
       "      <td>1.0898</td>\n",
       "    </tr>\n",
       "    <tr>\n",
       "      <th>2019-10-01 00:02:00</th>\n",
       "      <td>1.0898</td>\n",
       "      <td>1.0896</td>\n",
       "      <td>1.0898</td>\n",
       "      <td>1.0896</td>\n",
       "    </tr>\n",
       "    <tr>\n",
       "      <th>2019-10-01 00:03:00</th>\n",
       "      <td>1.0898</td>\n",
       "      <td>1.0896</td>\n",
       "      <td>1.0897</td>\n",
       "      <td>1.0898</td>\n",
       "    </tr>\n",
       "    <tr>\n",
       "      <th>2019-10-01 00:04:00</th>\n",
       "      <td>1.0898</td>\n",
       "      <td>1.0896</td>\n",
       "      <td>1.0897</td>\n",
       "      <td>1.0898</td>\n",
       "    </tr>\n",
       "  </tbody>\n",
       "</table>\n",
       "</div>\n",
       "      <button class=\"colab-df-convert\" onclick=\"convertToInteractive('df-b708dd3a-d0cc-4e28-a22d-3ca4a837ca3c')\"\n",
       "              title=\"Convert this dataframe to an interactive table.\"\n",
       "              style=\"display:none;\">\n",
       "        \n",
       "  <svg xmlns=\"http://www.w3.org/2000/svg\" height=\"24px\"viewBox=\"0 0 24 24\"\n",
       "       width=\"24px\">\n",
       "    <path d=\"M0 0h24v24H0V0z\" fill=\"none\"/>\n",
       "    <path d=\"M18.56 5.44l.94 2.06.94-2.06 2.06-.94-2.06-.94-.94-2.06-.94 2.06-2.06.94zm-11 1L8.5 8.5l.94-2.06 2.06-.94-2.06-.94L8.5 2.5l-.94 2.06-2.06.94zm10 10l.94 2.06.94-2.06 2.06-.94-2.06-.94-.94-2.06-.94 2.06-2.06.94z\"/><path d=\"M17.41 7.96l-1.37-1.37c-.4-.4-.92-.59-1.43-.59-.52 0-1.04.2-1.43.59L10.3 9.45l-7.72 7.72c-.78.78-.78 2.05 0 2.83L4 21.41c.39.39.9.59 1.41.59.51 0 1.02-.2 1.41-.59l7.78-7.78 2.81-2.81c.8-.78.8-2.07 0-2.86zM5.41 20L4 18.59l7.72-7.72 1.47 1.35L5.41 20z\"/>\n",
       "  </svg>\n",
       "      </button>\n",
       "      \n",
       "  <style>\n",
       "    .colab-df-container {\n",
       "      display:flex;\n",
       "      flex-wrap:wrap;\n",
       "      gap: 12px;\n",
       "    }\n",
       "\n",
       "    .colab-df-convert {\n",
       "      background-color: #E8F0FE;\n",
       "      border: none;\n",
       "      border-radius: 50%;\n",
       "      cursor: pointer;\n",
       "      display: none;\n",
       "      fill: #1967D2;\n",
       "      height: 32px;\n",
       "      padding: 0 0 0 0;\n",
       "      width: 32px;\n",
       "    }\n",
       "\n",
       "    .colab-df-convert:hover {\n",
       "      background-color: #E2EBFA;\n",
       "      box-shadow: 0px 1px 2px rgba(60, 64, 67, 0.3), 0px 1px 3px 1px rgba(60, 64, 67, 0.15);\n",
       "      fill: #174EA6;\n",
       "    }\n",
       "\n",
       "    [theme=dark] .colab-df-convert {\n",
       "      background-color: #3B4455;\n",
       "      fill: #D2E3FC;\n",
       "    }\n",
       "\n",
       "    [theme=dark] .colab-df-convert:hover {\n",
       "      background-color: #434B5C;\n",
       "      box-shadow: 0px 1px 3px 1px rgba(0, 0, 0, 0.15);\n",
       "      filter: drop-shadow(0px 1px 2px rgba(0, 0, 0, 0.3));\n",
       "      fill: #FFFFFF;\n",
       "    }\n",
       "  </style>\n",
       "\n",
       "      <script>\n",
       "        const buttonEl =\n",
       "          document.querySelector('#df-b708dd3a-d0cc-4e28-a22d-3ca4a837ca3c button.colab-df-convert');\n",
       "        buttonEl.style.display =\n",
       "          google.colab.kernel.accessAllowed ? 'block' : 'none';\n",
       "\n",
       "        async function convertToInteractive(key) {\n",
       "          const element = document.querySelector('#df-b708dd3a-d0cc-4e28-a22d-3ca4a837ca3c');\n",
       "          const dataTable =\n",
       "            await google.colab.kernel.invokeFunction('convertToInteractive',\n",
       "                                                     [key], {});\n",
       "          if (!dataTable) return;\n",
       "\n",
       "          const docLinkHtml = 'Like what you see? Visit the ' +\n",
       "            '<a target=\"_blank\" href=https://colab.research.google.com/notebooks/data_table.ipynb>data table notebook</a>'\n",
       "            + ' to learn more about interactive tables.';\n",
       "          element.innerHTML = '';\n",
       "          dataTable['output_type'] = 'display_data';\n",
       "          await google.colab.output.renderOutput(dataTable, element);\n",
       "          const docLink = document.createElement('div');\n",
       "          docLink.innerHTML = docLinkHtml;\n",
       "          element.appendChild(docLink);\n",
       "        }\n",
       "      </script>\n",
       "    </div>\n",
       "  </div>\n",
       "  "
      ],
      "text/plain": [
       "                       HIGH     LOW    OPEN   CLOSE\n",
       "Date                                               \n",
       "2019-10-01 00:00:00  1.0899  1.0897  1.0897  1.0899\n",
       "2019-10-01 00:01:00  1.0899  1.0896  1.0899  1.0898\n",
       "2019-10-01 00:02:00  1.0898  1.0896  1.0898  1.0896\n",
       "2019-10-01 00:03:00  1.0898  1.0896  1.0897  1.0898\n",
       "2019-10-01 00:04:00  1.0898  1.0896  1.0897  1.0898"
      ]
     },
     "execution_count": 9,
     "metadata": {},
     "output_type": "execute_result"
    }
   ],
   "source": [
    "raw.head()"
   ]
  },
  {
   "cell_type": "code",
   "execution_count": 10,
   "metadata": {
    "colab": {
     "base_uri": "https://localhost:8080/"
    },
    "id": "Vg-hkthvMTUj",
    "outputId": "d1a6c151-7df7-42c6-c4ee-d4320713a027"
   },
   "outputs": [
    {
     "name": "stdout",
     "output_type": "stream",
     "text": [
      "<class 'pandas.core.frame.DataFrame'>\n",
      "DatetimeIndex: 96526 entries, 2019-10-01 00:00:00 to 2019-12-31 23:06:00\n",
      "Data columns (total 4 columns):\n",
      " #   Column  Non-Null Count  Dtype  \n",
      "---  ------  --------------  -----  \n",
      " 0   HIGH    96526 non-null  float64\n",
      " 1   LOW     96526 non-null  float64\n",
      " 2   OPEN    96526 non-null  float64\n",
      " 3   CLOSE   96526 non-null  float64\n",
      "dtypes: float64(4)\n",
      "memory usage: 3.7 MB\n"
     ]
    }
   ],
   "source": [
    "raw.info()"
   ]
  },
  {
   "cell_type": "code",
   "execution_count": 11,
   "metadata": {
    "id": "Wjxclr9bMVaO"
   },
   "outputs": [],
   "source": [
    "data = pd.DataFrame(raw['CLOSE'].loc[:])\n",
    "data.columns = [symbol]"
   ]
  },
  {
   "cell_type": "code",
   "execution_count": 12,
   "metadata": {
    "id": "sthVCknjMXpV"
   },
   "outputs": [],
   "source": [
    "data = data.resample('1h', label='right').last().ffill()"
   ]
  },
  {
   "cell_type": "code",
   "execution_count": 13,
   "metadata": {
    "colab": {
     "base_uri": "https://localhost:8080/"
    },
    "id": "seD7Da5nWjM3",
    "outputId": "b12f04c5-8c92-4a88-d6f2-ebe90bf64598"
   },
   "outputs": [
    {
     "name": "stdout",
     "output_type": "stream",
     "text": [
      "<class 'pandas.core.frame.DataFrame'>\n",
      "DatetimeIndex: 2208 entries, 2019-10-01 01:00:00 to 2020-01-01 00:00:00\n",
      "Freq: H\n",
      "Data columns (total 1 columns):\n",
      " #   Column   Non-Null Count  Dtype  \n",
      "---  ------   --------------  -----  \n",
      " 0   EUR_USD  2208 non-null   float64\n",
      "dtypes: float64(1)\n",
      "memory usage: 34.5 KB\n"
     ]
    }
   ],
   "source": [
    "data.info()"
   ]
  },
  {
   "cell_type": "code",
   "execution_count": 14,
   "metadata": {
    "colab": {
     "base_uri": "https://localhost:8080/",
     "height": 397
    },
    "id": "gZp4OMDjWu-v",
    "outputId": "de782b09-eee1-43a6-cb0b-d2ffa4eb24d2"
   },
   "outputs": [
    {
     "data": {
      "image/png": "[encoded data removed]",
      "text/plain": [
       "<Figure size 720x432 with 1 Axes>"
      ]
     },
     "metadata": {},
     "output_type": "display_data"
    }
   ],
   "source": [
    "data.plot(figsize=(10, 6));"
   ]
  },
  {
   "cell_type": "markdown",
   "metadata": {
    "id": "fQYi2y_TEQNC"
   },
   "source": [
    "## Baseline Prediction"
   ]
  },
  {
   "cell_type": "code",
   "execution_count": 15,
   "metadata": {
    "id": "QV4J7oVGEQm3"
   },
   "outputs": [],
   "source": [
    "lags = 5"
   ]
  },
  {
   "cell_type": "code",
   "execution_count": 16,
   "metadata": {
    "id": "9Om0rY-iET5W"
   },
   "outputs": [],
   "source": [
    "def add_lags(data, symbol, lags, window=20):\n",
    "    cols = []\n",
    "    df = data.copy()\n",
    "    df.dropna(inplace=True)\n",
    "    df['r'] = np.log(df / df.shift())\n",
    "    df['sma'] = df[symbol].rolling(window).mean()\n",
    "    df['min'] = df[symbol].rolling(window).min()\n",
    "    df['max'] = df[symbol].rolling(window).max()\n",
    "    df['mom'] = df['r'].rolling(window).mean()\n",
    "    df['vol'] = df['r'].rolling(window).std()\n",
    "    df.dropna(inplace=True)\n",
    "    df['d'] = np.where(df['r'] > 0, 1, 0)\n",
    "    features = [symbol, 'r', 'd', 'sma', 'min', 'max', 'mom', 'vol']\n",
    "    for f in features:\n",
    "        for lag in range(1, lags + 1):\n",
    "            col = f'{f}_lag_{lag}'\n",
    "            df[col] = df[f].shift(lag)\n",
    "            cols.append(col)\n",
    "    df.dropna(inplace=True)\n",
    "    return df, cols"
   ]
  },
  {
   "cell_type": "code",
   "execution_count": 17,
   "metadata": {
    "id": "z6SybeVXEVhM"
   },
   "outputs": [],
   "source": [
    "data, cols = add_lags(data, symbol, lags)"
   ]
  },
  {
   "cell_type": "code",
   "execution_count": 18,
   "metadata": {
    "colab": {
     "base_uri": "https://localhost:8080/",
     "height": 866
    },
    "id": "lkeXtCduza79",
    "outputId": "25c46671-bca7-4f87-86cb-530ad497c271"
   },
   "outputs": [
    {
     "data": {
      "text/html": [
       "\n",
       "  <div id=\"df-4139777c-97d6-450a-86f8-02ffd6286cc3\">\n",
       "    <div class=\"colab-df-container\">\n",
       "      <div>\n",
       "<style scoped>\n",
       "    .dataframe tbody tr th:only-of-type {\n",
       "        vertical-align: middle;\n",
       "    }\n",
       "\n",
       "    .dataframe tbody tr th {\n",
       "        vertical-align: top;\n",
       "    }\n",
       "\n",
       "    .dataframe thead th {\n",
       "        text-align: right;\n",
       "    }\n",
       "</style>\n",
       "<table border=\"1\" class=\"dataframe\">\n",
       "  <thead>\n",
       "    <tr style=\"text-align: right;\">\n",
       "      <th></th>\n",
       "      <th>EUR_USD</th>\n",
       "      <th>r</th>\n",
       "      <th>sma</th>\n",
       "      <th>min</th>\n",
       "      <th>max</th>\n",
       "      <th>mom</th>\n",
       "      <th>vol</th>\n",
       "      <th>d</th>\n",
       "      <th>EUR_USD_lag_1</th>\n",
       "      <th>EUR_USD_lag_2</th>\n",
       "      <th>...</th>\n",
       "      <th>mom_lag_1</th>\n",
       "      <th>mom_lag_2</th>\n",
       "      <th>mom_lag_3</th>\n",
       "      <th>mom_lag_4</th>\n",
       "      <th>mom_lag_5</th>\n",
       "      <th>vol_lag_1</th>\n",
       "      <th>vol_lag_2</th>\n",
       "      <th>vol_lag_3</th>\n",
       "      <th>vol_lag_4</th>\n",
       "      <th>vol_lag_5</th>\n",
       "    </tr>\n",
       "    <tr>\n",
       "      <th>Date</th>\n",
       "      <th></th>\n",
       "      <th></th>\n",
       "      <th></th>\n",
       "      <th></th>\n",
       "      <th></th>\n",
       "      <th></th>\n",
       "      <th></th>\n",
       "      <th></th>\n",
       "      <th></th>\n",
       "      <th></th>\n",
       "      <th></th>\n",
       "      <th></th>\n",
       "      <th></th>\n",
       "      <th></th>\n",
       "      <th></th>\n",
       "      <th></th>\n",
       "      <th></th>\n",
       "      <th></th>\n",
       "      <th></th>\n",
       "      <th></th>\n",
       "      <th></th>\n",
       "    </tr>\n",
       "  </thead>\n",
       "  <tbody>\n",
       "    <tr>\n",
       "      <th>2019-10-02 02:00:00</th>\n",
       "      <td>1.0937</td>\n",
       "      <td>-9.1429e-05</td>\n",
       "      <td>1.0916</td>\n",
       "      <td>1.0879</td>\n",
       "      <td>1.0938</td>\n",
       "      <td>2.2911e-04</td>\n",
       "      <td>0.0008</td>\n",
       "      <td>0</td>\n",
       "      <td>1.0938</td>\n",
       "      <td>1.0932</td>\n",
       "      <td>...</td>\n",
       "      <td>2.2449e-04</td>\n",
       "      <td>2.0165e-04</td>\n",
       "      <td>2.0626e-04</td>\n",
       "      <td>1.8789e-04</td>\n",
       "      <td>1.6035e-04</td>\n",
       "      <td>0.0008</td>\n",
       "      <td>0.0008</td>\n",
       "      <td>0.0008</td>\n",
       "      <td>0.0008</td>\n",
       "      <td>0.0008</td>\n",
       "    </tr>\n",
       "    <tr>\n",
       "      <th>2019-10-02 03:00:00</th>\n",
       "      <td>1.0937</td>\n",
       "      <td>0.0000e+00</td>\n",
       "      <td>1.0918</td>\n",
       "      <td>1.0885</td>\n",
       "      <td>1.0938</td>\n",
       "      <td>2.6586e-04</td>\n",
       "      <td>0.0008</td>\n",
       "      <td>0</td>\n",
       "      <td>1.0937</td>\n",
       "      <td>1.0938</td>\n",
       "      <td>...</td>\n",
       "      <td>2.2911e-04</td>\n",
       "      <td>2.2449e-04</td>\n",
       "      <td>2.0165e-04</td>\n",
       "      <td>2.0626e-04</td>\n",
       "      <td>1.8789e-04</td>\n",
       "      <td>0.0008</td>\n",
       "      <td>0.0008</td>\n",
       "      <td>0.0008</td>\n",
       "      <td>0.0008</td>\n",
       "      <td>0.0008</td>\n",
       "    </tr>\n",
       "    <tr>\n",
       "      <th>2019-10-02 04:00:00</th>\n",
       "      <td>1.0936</td>\n",
       "      <td>-9.1437e-05</td>\n",
       "      <td>1.0921</td>\n",
       "      <td>1.0886</td>\n",
       "      <td>1.0938</td>\n",
       "      <td>2.3372e-04</td>\n",
       "      <td>0.0008</td>\n",
       "      <td>0</td>\n",
       "      <td>1.0937</td>\n",
       "      <td>1.0937</td>\n",
       "      <td>...</td>\n",
       "      <td>2.6586e-04</td>\n",
       "      <td>2.2911e-04</td>\n",
       "      <td>2.2449e-04</td>\n",
       "      <td>2.0165e-04</td>\n",
       "      <td>2.0626e-04</td>\n",
       "      <td>0.0008</td>\n",
       "      <td>0.0008</td>\n",
       "      <td>0.0008</td>\n",
       "      <td>0.0008</td>\n",
       "      <td>0.0008</td>\n",
       "    </tr>\n",
       "    <tr>\n",
       "      <th>2019-10-02 05:00:00</th>\n",
       "      <td>1.0933</td>\n",
       "      <td>-2.7436e-04</td>\n",
       "      <td>1.0923</td>\n",
       "      <td>1.0886</td>\n",
       "      <td>1.0938</td>\n",
       "      <td>1.8786e-04</td>\n",
       "      <td>0.0008</td>\n",
       "      <td>0</td>\n",
       "      <td>1.0936</td>\n",
       "      <td>1.0937</td>\n",
       "      <td>...</td>\n",
       "      <td>2.3372e-04</td>\n",
       "      <td>2.6586e-04</td>\n",
       "      <td>2.2911e-04</td>\n",
       "      <td>2.2449e-04</td>\n",
       "      <td>2.0165e-04</td>\n",
       "      <td>0.0008</td>\n",
       "      <td>0.0008</td>\n",
       "      <td>0.0008</td>\n",
       "      <td>0.0008</td>\n",
       "      <td>0.0008</td>\n",
       "    </tr>\n",
       "    <tr>\n",
       "      <th>2019-10-02 06:00:00</th>\n",
       "      <td>1.0935</td>\n",
       "      <td>1.8292e-04</td>\n",
       "      <td>1.0925</td>\n",
       "      <td>1.0886</td>\n",
       "      <td>1.0938</td>\n",
       "      <td>1.9700e-04</td>\n",
       "      <td>0.0008</td>\n",
       "      <td>1</td>\n",
       "      <td>1.0933</td>\n",
       "      <td>1.0936</td>\n",
       "      <td>...</td>\n",
       "      <td>1.8786e-04</td>\n",
       "      <td>2.3372e-04</td>\n",
       "      <td>2.6586e-04</td>\n",
       "      <td>2.2911e-04</td>\n",
       "      <td>2.2449e-04</td>\n",
       "      <td>0.0008</td>\n",
       "      <td>0.0008</td>\n",
       "      <td>0.0008</td>\n",
       "      <td>0.0008</td>\n",
       "      <td>0.0008</td>\n",
       "    </tr>\n",
       "    <tr>\n",
       "      <th>...</th>\n",
       "      <td>...</td>\n",
       "      <td>...</td>\n",
       "      <td>...</td>\n",
       "      <td>...</td>\n",
       "      <td>...</td>\n",
       "      <td>...</td>\n",
       "      <td>...</td>\n",
       "      <td>...</td>\n",
       "      <td>...</td>\n",
       "      <td>...</td>\n",
       "      <td>...</td>\n",
       "      <td>...</td>\n",
       "      <td>...</td>\n",
       "      <td>...</td>\n",
       "      <td>...</td>\n",
       "      <td>...</td>\n",
       "      <td>...</td>\n",
       "      <td>...</td>\n",
       "      <td>...</td>\n",
       "      <td>...</td>\n",
       "      <td>...</td>\n",
       "    </tr>\n",
       "    <tr>\n",
       "      <th>2019-12-31 20:00:00</th>\n",
       "      <td>1.1216</td>\n",
       "      <td>-5.3481e-04</td>\n",
       "      <td>1.1216</td>\n",
       "      <td>1.1201</td>\n",
       "      <td>1.1238</td>\n",
       "      <td>4.9061e-05</td>\n",
       "      <td>0.0006</td>\n",
       "      <td>0</td>\n",
       "      <td>1.1222</td>\n",
       "      <td>1.1226</td>\n",
       "      <td>...</td>\n",
       "      <td>9.8118e-05</td>\n",
       "      <td>1.0255e-04</td>\n",
       "      <td>1.2935e-04</td>\n",
       "      <td>1.0258e-04</td>\n",
       "      <td>7.1371e-05</td>\n",
       "      <td>0.0006</td>\n",
       "      <td>0.0006</td>\n",
       "      <td>0.0006</td>\n",
       "      <td>0.0007</td>\n",
       "      <td>0.0007</td>\n",
       "    </tr>\n",
       "    <tr>\n",
       "      <th>2019-12-31 21:00:00</th>\n",
       "      <td>1.1215</td>\n",
       "      <td>-8.9162e-05</td>\n",
       "      <td>1.1216</td>\n",
       "      <td>1.1201</td>\n",
       "      <td>1.1238</td>\n",
       "      <td>3.5679e-05</td>\n",
       "      <td>0.0006</td>\n",
       "      <td>0</td>\n",
       "      <td>1.1216</td>\n",
       "      <td>1.1222</td>\n",
       "      <td>...</td>\n",
       "      <td>4.9061e-05</td>\n",
       "      <td>9.8118e-05</td>\n",
       "      <td>1.0255e-04</td>\n",
       "      <td>1.2935e-04</td>\n",
       "      <td>1.0258e-04</td>\n",
       "      <td>0.0006</td>\n",
       "      <td>0.0006</td>\n",
       "      <td>0.0006</td>\n",
       "      <td>0.0006</td>\n",
       "      <td>0.0007</td>\n",
       "    </tr>\n",
       "    <tr>\n",
       "      <th>2019-12-31 22:00:00</th>\n",
       "      <td>1.1208</td>\n",
       "      <td>-6.2436e-04</td>\n",
       "      <td>1.1216</td>\n",
       "      <td>1.1201</td>\n",
       "      <td>1.1238</td>\n",
       "      <td>-1.7841e-05</td>\n",
       "      <td>0.0007</td>\n",
       "      <td>0</td>\n",
       "      <td>1.1215</td>\n",
       "      <td>1.1216</td>\n",
       "      <td>...</td>\n",
       "      <td>3.5679e-05</td>\n",
       "      <td>4.9061e-05</td>\n",
       "      <td>9.8118e-05</td>\n",
       "      <td>1.0255e-04</td>\n",
       "      <td>1.2935e-04</td>\n",
       "      <td>0.0006</td>\n",
       "      <td>0.0006</td>\n",
       "      <td>0.0006</td>\n",
       "      <td>0.0006</td>\n",
       "      <td>0.0006</td>\n",
       "    </tr>\n",
       "    <tr>\n",
       "      <th>2019-12-31 23:00:00</th>\n",
       "      <td>1.1211</td>\n",
       "      <td>2.6763e-04</td>\n",
       "      <td>1.1216</td>\n",
       "      <td>1.1201</td>\n",
       "      <td>1.1238</td>\n",
       "      <td>8.9206e-06</td>\n",
       "      <td>0.0007</td>\n",
       "      <td>1</td>\n",
       "      <td>1.1208</td>\n",
       "      <td>1.1215</td>\n",
       "      <td>...</td>\n",
       "      <td>-1.7841e-05</td>\n",
       "      <td>3.5679e-05</td>\n",
       "      <td>4.9061e-05</td>\n",
       "      <td>9.8118e-05</td>\n",
       "      <td>1.0255e-04</td>\n",
       "      <td>0.0007</td>\n",
       "      <td>0.0006</td>\n",
       "      <td>0.0006</td>\n",
       "      <td>0.0006</td>\n",
       "      <td>0.0006</td>\n",
       "    </tr>\n",
       "    <tr>\n",
       "      <th>2020-01-01 00:00:00</th>\n",
       "      <td>1.1211</td>\n",
       "      <td>0.0000e+00</td>\n",
       "      <td>1.1216</td>\n",
       "      <td>1.1201</td>\n",
       "      <td>1.1238</td>\n",
       "      <td>1.7843e-05</td>\n",
       "      <td>0.0007</td>\n",
       "      <td>0</td>\n",
       "      <td>1.1211</td>\n",
       "      <td>1.1208</td>\n",
       "      <td>...</td>\n",
       "      <td>8.9206e-06</td>\n",
       "      <td>-1.7841e-05</td>\n",
       "      <td>3.5679e-05</td>\n",
       "      <td>4.9061e-05</td>\n",
       "      <td>9.8118e-05</td>\n",
       "      <td>0.0007</td>\n",
       "      <td>0.0007</td>\n",
       "      <td>0.0006</td>\n",
       "      <td>0.0006</td>\n",
       "      <td>0.0006</td>\n",
       "    </tr>\n",
       "  </tbody>\n",
       "</table>\n",
       "<p>2183 rows × 48 columns</p>\n",
       "</div>\n",
       "      <button class=\"colab-df-convert\" onclick=\"convertToInteractive('df-4139777c-97d6-450a-86f8-02ffd6286cc3')\"\n",
       "              title=\"Convert this dataframe to an interactive table.\"\n",
       "              style=\"display:none;\">\n",
       "        \n",
       "  <svg xmlns=\"http://www.w3.org/2000/svg\" height=\"24px\"viewBox=\"0 0 24 24\"\n",
       "       width=\"24px\">\n",
       "    <path d=\"M0 0h24v24H0V0z\" fill=\"none\"/>\n",
       "    <path d=\"M18.56 5.44l.94 2.06.94-2.06 2.06-.94-2.06-.94-.94-2.06-.94 2.06-2.06.94zm-11 1L8.5 8.5l.94-2.06 2.06-.94-2.06-.94L8.5 2.5l-.94 2.06-2.06.94zm10 10l.94 2.06.94-2.06 2.06-.94-2.06-.94-.94-2.06-.94 2.06-2.06.94z\"/><path d=\"M17.41 7.96l-1.37-1.37c-.4-.4-.92-.59-1.43-.59-.52 0-1.04.2-1.43.59L10.3 9.45l-7.72 7.72c-.78.78-.78 2.05 0 2.83L4 21.41c.39.39.9.59 1.41.59.51 0 1.02-.2 1.41-.59l7.78-7.78 2.81-2.81c.8-.78.8-2.07 0-2.86zM5.41 20L4 18.59l7.72-7.72 1.47 1.35L5.41 20z\"/>\n",
       "  </svg>\n",
       "      </button>\n",
       "      \n",
       "  <style>\n",
       "    .colab-df-container {\n",
       "      display:flex;\n",
       "      flex-wrap:wrap;\n",
       "      gap: 12px;\n",
       "    }\n",
       "\n",
       "    .colab-df-convert {\n",
       "      background-color: #E8F0FE;\n",
       "      border: none;\n",
       "      border-radius: 50%;\n",
       "      cursor: pointer;\n",
       "      display: none;\n",
       "      fill: #1967D2;\n",
       "      height: 32px;\n",
       "      padding: 0 0 0 0;\n",
       "      width: 32px;\n",
       "    }\n",
       "\n",
       "    .colab-df-convert:hover {\n",
       "      background-color: #E2EBFA;\n",
       "      box-shadow: 0px 1px 2px rgba(60, 64, 67, 0.3), 0px 1px 3px 1px rgba(60, 64, 67, 0.15);\n",
       "      fill: #174EA6;\n",
       "    }\n",
       "\n",
       "    [theme=dark] .colab-df-convert {\n",
       "      background-color: #3B4455;\n",
       "      fill: #D2E3FC;\n",
       "    }\n",
       "\n",
       "    [theme=dark] .colab-df-convert:hover {\n",
       "      background-color: #434B5C;\n",
       "      box-shadow: 0px 1px 3px 1px rgba(0, 0, 0, 0.15);\n",
       "      filter: drop-shadow(0px 1px 2px rgba(0, 0, 0, 0.3));\n",
       "      fill: #FFFFFF;\n",
       "    }\n",
       "  </style>\n",
       "\n",
       "      <script>\n",
       "        const buttonEl =\n",
       "          document.querySelector('#df-4139777c-97d6-450a-86f8-02ffd6286cc3 button.colab-df-convert');\n",
       "        buttonEl.style.display =\n",
       "          google.colab.kernel.accessAllowed ? 'block' : 'none';\n",
       "\n",
       "        async function convertToInteractive(key) {\n",
       "          const element = document.querySelector('#df-4139777c-97d6-450a-86f8-02ffd6286cc3');\n",
       "          const dataTable =\n",
       "            await google.colab.kernel.invokeFunction('convertToInteractive',\n",
       "                                                     [key], {});\n",
       "          if (!dataTable) return;\n",
       "\n",
       "          const docLinkHtml = 'Like what you see? Visit the ' +\n",
       "            '<a target=\"_blank\" href=https://colab.research.google.com/notebooks/data_table.ipynb>data table notebook</a>'\n",
       "            + ' to learn more about interactive tables.';\n",
       "          element.innerHTML = '';\n",
       "          dataTable['output_type'] = 'display_data';\n",
       "          await google.colab.output.renderOutput(dataTable, element);\n",
       "          const docLink = document.createElement('div');\n",
       "          docLink.innerHTML = docLinkHtml;\n",
       "          element.appendChild(docLink);\n",
       "        }\n",
       "      </script>\n",
       "    </div>\n",
       "  </div>\n",
       "  "
      ],
      "text/plain": [
       "                     EUR_USD           r     sma     min     max         mom  \\\n",
       "Date                                                                           \n",
       "2019-10-02 02:00:00   1.0937 -9.1429e-05  1.0916  1.0879  1.0938  2.2911e-04   \n",
       "2019-10-02 03:00:00   1.0937  0.0000e+00  1.0918  1.0885  1.0938  2.6586e-04   \n",
       "2019-10-02 04:00:00   1.0936 -9.1437e-05  1.0921  1.0886  1.0938  2.3372e-04   \n",
       "2019-10-02 05:00:00   1.0933 -2.7436e-04  1.0923  1.0886  1.0938  1.8786e-04   \n",
       "2019-10-02 06:00:00   1.0935  1.8292e-04  1.0925  1.0886  1.0938  1.9700e-04   \n",
       "...                      ...         ...     ...     ...     ...         ...   \n",
       "2019-12-31 20:00:00   1.1216 -5.3481e-04  1.1216  1.1201  1.1238  4.9061e-05   \n",
       "2019-12-31 21:00:00   1.1215 -8.9162e-05  1.1216  1.1201  1.1238  3.5679e-05   \n",
       "2019-12-31 22:00:00   1.1208 -6.2436e-04  1.1216  1.1201  1.1238 -1.7841e-05   \n",
       "2019-12-31 23:00:00   1.1211  2.6763e-04  1.1216  1.1201  1.1238  8.9206e-06   \n",
       "2020-01-01 00:00:00   1.1211  0.0000e+00  1.1216  1.1201  1.1238  1.7843e-05   \n",
       "\n",
       "                        vol  d  EUR_USD_lag_1  EUR_USD_lag_2  ...   mom_lag_1  \\\n",
       "Date                                                          ...               \n",
       "2019-10-02 02:00:00  0.0008  0         1.0938         1.0932  ...  2.2449e-04   \n",
       "2019-10-02 03:00:00  0.0008  0         1.0937         1.0938  ...  2.2911e-04   \n",
       "2019-10-02 04:00:00  0.0008  0         1.0937         1.0937  ...  2.6586e-04   \n",
       "2019-10-02 05:00:00  0.0008  0         1.0936         1.0937  ...  2.3372e-04   \n",
       "2019-10-02 06:00:00  0.0008  1         1.0933         1.0936  ...  1.8786e-04   \n",
       "...                     ... ..            ...            ...  ...         ...   \n",
       "2019-12-31 20:00:00  0.0006  0         1.1222         1.1226  ...  9.8118e-05   \n",
       "2019-12-31 21:00:00  0.0006  0         1.1216         1.1222  ...  4.9061e-05   \n",
       "2019-12-31 22:00:00  0.0007  0         1.1215         1.1216  ...  3.5679e-05   \n",
       "2019-12-31 23:00:00  0.0007  1         1.1208         1.1215  ... -1.7841e-05   \n",
       "2020-01-01 00:00:00  0.0007  0         1.1211         1.1208  ...  8.9206e-06   \n",
       "\n",
       "                      mom_lag_2   mom_lag_3   mom_lag_4   mom_lag_5  \\\n",
       "Date                                                                  \n",
       "2019-10-02 02:00:00  2.0165e-04  2.0626e-04  1.8789e-04  1.6035e-04   \n",
       "2019-10-02 03:00:00  2.2449e-04  2.0165e-04  2.0626e-04  1.8789e-04   \n",
       "2019-10-02 04:00:00  2.2911e-04  2.2449e-04  2.0165e-04  2.0626e-04   \n",
       "2019-10-02 05:00:00  2.6586e-04  2.2911e-04  2.2449e-04  2.0165e-04   \n",
       "2019-10-02 06:00:00  2.3372e-04  2.6586e-04  2.2911e-04  2.2449e-04   \n",
       "...                         ...         ...         ...         ...   \n",
       "2019-12-31 20:00:00  1.0255e-04  1.2935e-04  1.0258e-04  7.1371e-05   \n",
       "2019-12-31 21:00:00  9.8118e-05  1.0255e-04  1.2935e-04  1.0258e-04   \n",
       "2019-12-31 22:00:00  4.9061e-05  9.8118e-05  1.0255e-04  1.2935e-04   \n",
       "2019-12-31 23:00:00  3.5679e-05  4.9061e-05  9.8118e-05  1.0255e-04   \n",
       "2020-01-01 00:00:00 -1.7841e-05  3.5679e-05  4.9061e-05  9.8118e-05   \n",
       "\n",
       "                     vol_lag_1  vol_lag_2  vol_lag_3  vol_lag_4  vol_lag_5  \n",
       "Date                                                                        \n",
       "2019-10-02 02:00:00     0.0008     0.0008     0.0008     0.0008     0.0008  \n",
       "2019-10-02 03:00:00     0.0008     0.0008     0.0008     0.0008     0.0008  \n",
       "2019-10-02 04:00:00     0.0008     0.0008     0.0008     0.0008     0.0008  \n",
       "2019-10-02 05:00:00     0.0008     0.0008     0.0008     0.0008     0.0008  \n",
       "2019-10-02 06:00:00     0.0008     0.0008     0.0008     0.0008     0.0008  \n",
       "...                        ...        ...        ...        ...        ...  \n",
       "2019-12-31 20:00:00     0.0006     0.0006     0.0006     0.0007     0.0007  \n",
       "2019-12-31 21:00:00     0.0006     0.0006     0.0006     0.0006     0.0007  \n",
       "2019-12-31 22:00:00     0.0006     0.0006     0.0006     0.0006     0.0006  \n",
       "2019-12-31 23:00:00     0.0007     0.0006     0.0006     0.0006     0.0006  \n",
       "2020-01-01 00:00:00     0.0007     0.0007     0.0006     0.0006     0.0006  \n",
       "\n",
       "[2183 rows x 48 columns]"
      ]
     },
     "execution_count": 18,
     "metadata": {},
     "output_type": "execute_result"
    }
   ],
   "source": [
    "data"
   ]
  },
  {
   "cell_type": "code",
   "execution_count": 19,
   "metadata": {
    "colab": {
     "base_uri": "https://localhost:8080/",
     "height": 394
    },
    "id": "WsICcxhkzeRE",
    "outputId": "cdf14225-4594-4b21-e04d-e915b621efff"
   },
   "outputs": [
    {
     "data": {
      "text/html": [
       "\n",
       "  <div id=\"df-97bcf03a-9f62-48b1-9032-b573bf0c7e12\">\n",
       "    <div class=\"colab-df-container\">\n",
       "      <div>\n",
       "<style scoped>\n",
       "    .dataframe tbody tr th:only-of-type {\n",
       "        vertical-align: middle;\n",
       "    }\n",
       "\n",
       "    .dataframe tbody tr th {\n",
       "        vertical-align: top;\n",
       "    }\n",
       "\n",
       "    .dataframe thead th {\n",
       "        text-align: right;\n",
       "    }\n",
       "</style>\n",
       "<table border=\"1\" class=\"dataframe\">\n",
       "  <thead>\n",
       "    <tr style=\"text-align: right;\">\n",
       "      <th></th>\n",
       "      <th>EUR_USD</th>\n",
       "      <th>r</th>\n",
       "      <th>sma</th>\n",
       "      <th>min</th>\n",
       "      <th>max</th>\n",
       "      <th>mom</th>\n",
       "      <th>vol</th>\n",
       "      <th>d</th>\n",
       "      <th>EUR_USD_lag_1</th>\n",
       "      <th>EUR_USD_lag_2</th>\n",
       "      <th>EUR_USD_lag_3</th>\n",
       "      <th>EUR_USD_lag_4</th>\n",
       "      <th>EUR_USD_lag_5</th>\n",
       "      <th>r_lag_1</th>\n",
       "    </tr>\n",
       "    <tr>\n",
       "      <th>Date</th>\n",
       "      <th></th>\n",
       "      <th></th>\n",
       "      <th></th>\n",
       "      <th></th>\n",
       "      <th></th>\n",
       "      <th></th>\n",
       "      <th></th>\n",
       "      <th></th>\n",
       "      <th></th>\n",
       "      <th></th>\n",
       "      <th></th>\n",
       "      <th></th>\n",
       "      <th></th>\n",
       "      <th></th>\n",
       "    </tr>\n",
       "  </thead>\n",
       "  <tbody>\n",
       "    <tr>\n",
       "      <th>2019-10-02 02:00:00</th>\n",
       "      <td>1.0937</td>\n",
       "      <td>-0.0001</td>\n",
       "      <td>1.0916</td>\n",
       "      <td>1.0879</td>\n",
       "      <td>1.0938</td>\n",
       "      <td>0.0002</td>\n",
       "      <td>0.0008</td>\n",
       "      <td>0</td>\n",
       "      <td>1.0938</td>\n",
       "      <td>1.0932</td>\n",
       "      <td>1.0931</td>\n",
       "      <td>1.0931</td>\n",
       "      <td>1.0931</td>\n",
       "      <td>0.0005</td>\n",
       "    </tr>\n",
       "    <tr>\n",
       "      <th>2019-10-02 03:00:00</th>\n",
       "      <td>1.0937</td>\n",
       "      <td>0.0000</td>\n",
       "      <td>1.0918</td>\n",
       "      <td>1.0885</td>\n",
       "      <td>1.0938</td>\n",
       "      <td>0.0003</td>\n",
       "      <td>0.0008</td>\n",
       "      <td>0</td>\n",
       "      <td>1.0937</td>\n",
       "      <td>1.0938</td>\n",
       "      <td>1.0932</td>\n",
       "      <td>1.0931</td>\n",
       "      <td>1.0931</td>\n",
       "      <td>-0.0001</td>\n",
       "    </tr>\n",
       "    <tr>\n",
       "      <th>2019-10-02 04:00:00</th>\n",
       "      <td>1.0936</td>\n",
       "      <td>-0.0001</td>\n",
       "      <td>1.0921</td>\n",
       "      <td>1.0886</td>\n",
       "      <td>1.0938</td>\n",
       "      <td>0.0002</td>\n",
       "      <td>0.0008</td>\n",
       "      <td>0</td>\n",
       "      <td>1.0937</td>\n",
       "      <td>1.0937</td>\n",
       "      <td>1.0938</td>\n",
       "      <td>1.0932</td>\n",
       "      <td>1.0931</td>\n",
       "      <td>0.0000</td>\n",
       "    </tr>\n",
       "    <tr>\n",
       "      <th>2019-10-02 05:00:00</th>\n",
       "      <td>1.0933</td>\n",
       "      <td>-0.0003</td>\n",
       "      <td>1.0923</td>\n",
       "      <td>1.0886</td>\n",
       "      <td>1.0938</td>\n",
       "      <td>0.0002</td>\n",
       "      <td>0.0008</td>\n",
       "      <td>0</td>\n",
       "      <td>1.0936</td>\n",
       "      <td>1.0937</td>\n",
       "      <td>1.0937</td>\n",
       "      <td>1.0938</td>\n",
       "      <td>1.0932</td>\n",
       "      <td>-0.0001</td>\n",
       "    </tr>\n",
       "    <tr>\n",
       "      <th>2019-10-02 06:00:00</th>\n",
       "      <td>1.0935</td>\n",
       "      <td>0.0002</td>\n",
       "      <td>1.0925</td>\n",
       "      <td>1.0886</td>\n",
       "      <td>1.0938</td>\n",
       "      <td>0.0002</td>\n",
       "      <td>0.0008</td>\n",
       "      <td>1</td>\n",
       "      <td>1.0933</td>\n",
       "      <td>1.0936</td>\n",
       "      <td>1.0937</td>\n",
       "      <td>1.0937</td>\n",
       "      <td>1.0938</td>\n",
       "      <td>-0.0003</td>\n",
       "    </tr>\n",
       "    <tr>\n",
       "      <th>2019-10-02 07:00:00</th>\n",
       "      <td>1.0923</td>\n",
       "      <td>-0.0011</td>\n",
       "      <td>1.0926</td>\n",
       "      <td>1.0886</td>\n",
       "      <td>1.0938</td>\n",
       "      <td>0.0001</td>\n",
       "      <td>0.0008</td>\n",
       "      <td>0</td>\n",
       "      <td>1.0935</td>\n",
       "      <td>1.0933</td>\n",
       "      <td>1.0936</td>\n",
       "      <td>1.0937</td>\n",
       "      <td>1.0937</td>\n",
       "      <td>0.0002</td>\n",
       "    </tr>\n",
       "    <tr>\n",
       "      <th>2019-10-02 08:00:00</th>\n",
       "      <td>1.0918</td>\n",
       "      <td>-0.0005</td>\n",
       "      <td>1.0927</td>\n",
       "      <td>1.0886</td>\n",
       "      <td>1.0938</td>\n",
       "      <td>0.0001</td>\n",
       "      <td>0.0008</td>\n",
       "      <td>0</td>\n",
       "      <td>1.0923</td>\n",
       "      <td>1.0935</td>\n",
       "      <td>1.0933</td>\n",
       "      <td>1.0936</td>\n",
       "      <td>1.0937</td>\n",
       "      <td>-0.0011</td>\n",
       "    </tr>\n",
       "    <tr>\n",
       "      <th>2019-10-02 09:00:00</th>\n",
       "      <td>1.0904</td>\n",
       "      <td>-0.0013</td>\n",
       "      <td>1.0928</td>\n",
       "      <td>1.0886</td>\n",
       "      <td>1.0938</td>\n",
       "      <td>0.0000</td>\n",
       "      <td>0.0009</td>\n",
       "      <td>0</td>\n",
       "      <td>1.0918</td>\n",
       "      <td>1.0923</td>\n",
       "      <td>1.0935</td>\n",
       "      <td>1.0933</td>\n",
       "      <td>1.0936</td>\n",
       "      <td>-0.0005</td>\n",
       "    </tr>\n",
       "    <tr>\n",
       "      <th>2019-10-02 10:00:00</th>\n",
       "      <td>1.0916</td>\n",
       "      <td>0.0011</td>\n",
       "      <td>1.0929</td>\n",
       "      <td>1.0904</td>\n",
       "      <td>1.0938</td>\n",
       "      <td>0.0001</td>\n",
       "      <td>0.0009</td>\n",
       "      <td>1</td>\n",
       "      <td>1.0904</td>\n",
       "      <td>1.0918</td>\n",
       "      <td>1.0923</td>\n",
       "      <td>1.0935</td>\n",
       "      <td>1.0933</td>\n",
       "      <td>-0.0013</td>\n",
       "    </tr>\n",
       "    <tr>\n",
       "      <th>2019-10-02 11:00:00</th>\n",
       "      <td>1.0920</td>\n",
       "      <td>0.0004</td>\n",
       "      <td>1.0930</td>\n",
       "      <td>1.0904</td>\n",
       "      <td>1.0938</td>\n",
       "      <td>0.0000</td>\n",
       "      <td>0.0007</td>\n",
       "      <td>1</td>\n",
       "      <td>1.0916</td>\n",
       "      <td>1.0904</td>\n",
       "      <td>1.0918</td>\n",
       "      <td>1.0923</td>\n",
       "      <td>1.0935</td>\n",
       "      <td>0.0011</td>\n",
       "    </tr>\n",
       "  </tbody>\n",
       "</table>\n",
       "</div>\n",
       "      <button class=\"colab-df-convert\" onclick=\"convertToInteractive('df-97bcf03a-9f62-48b1-9032-b573bf0c7e12')\"\n",
       "              title=\"Convert this dataframe to an interactive table.\"\n",
       "              style=\"display:none;\">\n",
       "        \n",
       "  <svg xmlns=\"http://www.w3.org/2000/svg\" height=\"24px\"viewBox=\"0 0 24 24\"\n",
       "       width=\"24px\">\n",
       "    <path d=\"M0 0h24v24H0V0z\" fill=\"none\"/>\n",
       "    <path d=\"M18.56 5.44l.94 2.06.94-2.06 2.06-.94-2.06-.94-.94-2.06-.94 2.06-2.06.94zm-11 1L8.5 8.5l.94-2.06 2.06-.94-2.06-.94L8.5 2.5l-.94 2.06-2.06.94zm10 10l.94 2.06.94-2.06 2.06-.94-2.06-.94-.94-2.06-.94 2.06-2.06.94z\"/><path d=\"M17.41 7.96l-1.37-1.37c-.4-.4-.92-.59-1.43-.59-.52 0-1.04.2-1.43.59L10.3 9.45l-7.72 7.72c-.78.78-.78 2.05 0 2.83L4 21.41c.39.39.9.59 1.41.59.51 0 1.02-.2 1.41-.59l7.78-7.78 2.81-2.81c.8-.78.8-2.07 0-2.86zM5.41 20L4 18.59l7.72-7.72 1.47 1.35L5.41 20z\"/>\n",
       "  </svg>\n",
       "      </button>\n",
       "      \n",
       "  <style>\n",
       "    .colab-df-container {\n",
       "      display:flex;\n",
       "      flex-wrap:wrap;\n",
       "      gap: 12px;\n",
       "    }\n",
       "\n",
       "    .colab-df-convert {\n",
       "      background-color: #E8F0FE;\n",
       "      border: none;\n",
       "      border-radius: 50%;\n",
       "      cursor: pointer;\n",
       "      display: none;\n",
       "      fill: #1967D2;\n",
       "      height: 32px;\n",
       "      padding: 0 0 0 0;\n",
       "      width: 32px;\n",
       "    }\n",
       "\n",
       "    .colab-df-convert:hover {\n",
       "      background-color: #E2EBFA;\n",
       "      box-shadow: 0px 1px 2px rgba(60, 64, 67, 0.3), 0px 1px 3px 1px rgba(60, 64, 67, 0.15);\n",
       "      fill: #174EA6;\n",
       "    }\n",
       "\n",
       "    [theme=dark] .colab-df-convert {\n",
       "      background-color: #3B4455;\n",
       "      fill: #D2E3FC;\n",
       "    }\n",
       "\n",
       "    [theme=dark] .colab-df-convert:hover {\n",
       "      background-color: #434B5C;\n",
       "      box-shadow: 0px 1px 3px 1px rgba(0, 0, 0, 0.15);\n",
       "      filter: drop-shadow(0px 1px 2px rgba(0, 0, 0, 0.3));\n",
       "      fill: #FFFFFF;\n",
       "    }\n",
       "  </style>\n",
       "\n",
       "      <script>\n",
       "        const buttonEl =\n",
       "          document.querySelector('#df-97bcf03a-9f62-48b1-9032-b573bf0c7e12 button.colab-df-convert');\n",
       "        buttonEl.style.display =\n",
       "          google.colab.kernel.accessAllowed ? 'block' : 'none';\n",
       "\n",
       "        async function convertToInteractive(key) {\n",
       "          const element = document.querySelector('#df-97bcf03a-9f62-48b1-9032-b573bf0c7e12');\n",
       "          const dataTable =\n",
       "            await google.colab.kernel.invokeFunction('convertToInteractive',\n",
       "                                                     [key], {});\n",
       "          if (!dataTable) return;\n",
       "\n",
       "          const docLinkHtml = 'Like what you see? Visit the ' +\n",
       "            '<a target=\"_blank\" href=https://colab.research.google.com/notebooks/data_table.ipynb>data table notebook</a>'\n",
       "            + ' to learn more about interactive tables.';\n",
       "          element.innerHTML = '';\n",
       "          dataTable['output_type'] = 'display_data';\n",
       "          await google.colab.output.renderOutput(dataTable, element);\n",
       "          const docLink = document.createElement('div');\n",
       "          docLink.innerHTML = docLinkHtml;\n",
       "          element.appendChild(docLink);\n",
       "        }\n",
       "      </script>\n",
       "    </div>\n",
       "  </div>\n",
       "  "
      ],
      "text/plain": [
       "                     EUR_USD       r     sma     min     max     mom     vol  \\\n",
       "Date                                                                           \n",
       "2019-10-02 02:00:00   1.0937 -0.0001  1.0916  1.0879  1.0938  0.0002  0.0008   \n",
       "2019-10-02 03:00:00   1.0937  0.0000  1.0918  1.0885  1.0938  0.0003  0.0008   \n",
       "2019-10-02 04:00:00   1.0936 -0.0001  1.0921  1.0886  1.0938  0.0002  0.0008   \n",
       "2019-10-02 05:00:00   1.0933 -0.0003  1.0923  1.0886  1.0938  0.0002  0.0008   \n",
       "2019-10-02 06:00:00   1.0935  0.0002  1.0925  1.0886  1.0938  0.0002  0.0008   \n",
       "2019-10-02 07:00:00   1.0923 -0.0011  1.0926  1.0886  1.0938  0.0001  0.0008   \n",
       "2019-10-02 08:00:00   1.0918 -0.0005  1.0927  1.0886  1.0938  0.0001  0.0008   \n",
       "2019-10-02 09:00:00   1.0904 -0.0013  1.0928  1.0886  1.0938  0.0000  0.0009   \n",
       "2019-10-02 10:00:00   1.0916  0.0011  1.0929  1.0904  1.0938  0.0001  0.0009   \n",
       "2019-10-02 11:00:00   1.0920  0.0004  1.0930  1.0904  1.0938  0.0000  0.0007   \n",
       "\n",
       "                     d  EUR_USD_lag_1  EUR_USD_lag_2  EUR_USD_lag_3  \\\n",
       "Date                                                                  \n",
       "2019-10-02 02:00:00  0         1.0938         1.0932         1.0931   \n",
       "2019-10-02 03:00:00  0         1.0937         1.0938         1.0932   \n",
       "2019-10-02 04:00:00  0         1.0937         1.0937         1.0938   \n",
       "2019-10-02 05:00:00  0         1.0936         1.0937         1.0937   \n",
       "2019-10-02 06:00:00  1         1.0933         1.0936         1.0937   \n",
       "2019-10-02 07:00:00  0         1.0935         1.0933         1.0936   \n",
       "2019-10-02 08:00:00  0         1.0923         1.0935         1.0933   \n",
       "2019-10-02 09:00:00  0         1.0918         1.0923         1.0935   \n",
       "2019-10-02 10:00:00  1         1.0904         1.0918         1.0923   \n",
       "2019-10-02 11:00:00  1         1.0916         1.0904         1.0918   \n",
       "\n",
       "                     EUR_USD_lag_4  EUR_USD_lag_5  r_lag_1  \n",
       "Date                                                        \n",
       "2019-10-02 02:00:00         1.0931         1.0931   0.0005  \n",
       "2019-10-02 03:00:00         1.0931         1.0931  -0.0001  \n",
       "2019-10-02 04:00:00         1.0932         1.0931   0.0000  \n",
       "2019-10-02 05:00:00         1.0938         1.0932  -0.0001  \n",
       "2019-10-02 06:00:00         1.0937         1.0938  -0.0003  \n",
       "2019-10-02 07:00:00         1.0937         1.0937   0.0002  \n",
       "2019-10-02 08:00:00         1.0936         1.0937  -0.0011  \n",
       "2019-10-02 09:00:00         1.0933         1.0936  -0.0005  \n",
       "2019-10-02 10:00:00         1.0935         1.0933  -0.0013  \n",
       "2019-10-02 11:00:00         1.0923         1.0935   0.0011  "
      ]
     },
     "execution_count": 19,
     "metadata": {},
     "output_type": "execute_result"
    }
   ],
   "source": [
    "data.iloc[:10, :14].round(4)"
   ]
  },
  {
   "cell_type": "code",
   "execution_count": 20,
   "metadata": {
    "colab": {
     "base_uri": "https://localhost:8080/"
    },
    "id": "3jykECXfzgK8",
    "outputId": "7d6c78cd-f52b-4cb9-fbf0-5d37a85e389b"
   },
   "outputs": [
    {
     "data": {
      "text/plain": [
       "0    1445\n",
       "1     738\n",
       "Name: d, dtype: int64"
      ]
     },
     "execution_count": 20,
     "metadata": {},
     "output_type": "execute_result"
    }
   ],
   "source": [
    "c = data['d'].value_counts()\n",
    "c"
   ]
  },
  {
   "cell_type": "code",
   "execution_count": 21,
   "metadata": {
    "id": "hJbxN7hazyp7"
   },
   "outputs": [],
   "source": [
    "def cw(df):\n",
    "    c0, c1 = np.bincount(df['d'])\n",
    "    w0 = (1 / c0) * (len(df)) / 2\n",
    "    w1 = (1 / c1) * (len(df)) / 2\n",
    "    return {0: w0, 1: w1}"
   ]
  },
  {
   "cell_type": "code",
   "execution_count": 22,
   "metadata": {
    "id": "HaCm9syPTdz8"
   },
   "outputs": [],
   "source": [
    "class_weight = cw(data)"
   ]
  },
  {
   "cell_type": "code",
   "execution_count": 23,
   "metadata": {
    "colab": {
     "base_uri": "https://localhost:8080/"
    },
    "id": "SF-GV4zwUP_p",
    "outputId": "b66832cc-2f8e-4c4a-c6e3-85d857ad5bd6"
   },
   "outputs": [
    {
     "data": {
      "text/plain": [
       "{0: 0.755363321799308, 1: 1.4789972899728998}"
      ]
     },
     "execution_count": 23,
     "metadata": {},
     "output_type": "execute_result"
    }
   ],
   "source": [
    "class_weight"
   ]
  },
  {
   "cell_type": "code",
   "execution_count": 24,
   "metadata": {
    "colab": {
     "base_uri": "https://localhost:8080/"
    },
    "id": "swfsYH6RURf3",
    "outputId": "80c9d941-73e7-437b-ac67-d51db5723667"
   },
   "outputs": [
    {
     "data": {
      "text/plain": [
       "1091.5"
      ]
     },
     "execution_count": 24,
     "metadata": {},
     "output_type": "execute_result"
    }
   ],
   "source": [
    "class_weight[0] * c[0]"
   ]
  },
  {
   "cell_type": "code",
   "execution_count": 25,
   "metadata": {
    "colab": {
     "base_uri": "https://localhost:8080/"
    },
    "id": "54VX6m8qUUh5",
    "outputId": "560cee57-14b9-48c3-b88f-04dbc53b6daf"
   },
   "outputs": [
    {
     "data": {
      "text/plain": [
       "1091.5"
      ]
     },
     "execution_count": 25,
     "metadata": {},
     "output_type": "execute_result"
    }
   ],
   "source": [
    "class_weight[1] * c[1]"
   ]
  },
  {
   "cell_type": "code",
   "execution_count": 26,
   "metadata": {
    "id": "dFIiFIgSUY56"
   },
   "outputs": [],
   "source": [
    "import random\n",
    "import logging\n",
    "import tensorflow as tf\n",
    "from keras.layers import Dense\n",
    "from keras.models import Sequential\n",
    "#from keras.optimizers import Adam\n",
    "from tensorflow.keras.optimizers import Adam\n",
    "from sklearn.metrics import accuracy_score\n",
    "tf.get_logger().setLevel(logging.ERROR)"
   ]
  },
  {
   "cell_type": "code",
   "execution_count": 27,
   "metadata": {
    "id": "rDxCqouPUbQg"
   },
   "outputs": [],
   "source": [
    "def set_seeds(seed=100):\n",
    "    random.seed(seed)\n",
    "    np.random.seed(seed)\n",
    "    tf.random.set_seed(seed)"
   ]
  },
  {
   "cell_type": "code",
   "execution_count": 28,
   "metadata": {
    "id": "Q9Ur2IYnVRJE"
   },
   "outputs": [],
   "source": [
    "#optimizer = Adam(lr=0.001)\n",
    "optimizer = Adam(learning_rate=0.001)"
   ]
  },
  {
   "cell_type": "code",
   "execution_count": 29,
   "metadata": {
    "id": "_iKbOaqUVTbE"
   },
   "outputs": [],
   "source": [
    "def create_model(hl=1, hu=128, optimizer=optimizer):\n",
    "    model = Sequential()\n",
    "    model.add(Dense(hu, input_dim=len(cols),\n",
    "                    activation='relu'))\n",
    "    for _ in range(hl):\n",
    "        model.add(Dense(hu, activation='relu'))\n",
    "    model.add(Dense(1, activation='sigmoid'))\n",
    "    model.compile(loss='binary_crossentropy',\n",
    "                  optimizer=optimizer,\n",
    "                  metrics=['accuracy'])\n",
    "    return model"
   ]
  },
  {
   "cell_type": "code",
   "execution_count": 30,
   "metadata": {
    "id": "Z6yP-hnPVfVD"
   },
   "outputs": [],
   "source": [
    "set_seeds()\n",
    "model = create_model(hl=1, hu=128)"
   ]
  },
  {
   "cell_type": "code",
   "execution_count": 31,
   "metadata": {
    "colab": {
     "base_uri": "https://localhost:8080/"
    },
    "id": "ZmwlF3Z-WeYO",
    "outputId": "909c83c4-9bff-42a7-ebf5-e332fd743e3a"
   },
   "outputs": [
    {
     "name": "stdout",
     "output_type": "stream",
     "text": [
      "Model: \"sequential\"\n",
      "_________________________________________________________________\n",
      " Layer (type)                Output Shape              Param #   \n",
      "=================================================================\n",
      " dense (Dense)               (None, 128)               5248      \n",
      "                                                                 \n",
      " dense_1 (Dense)             (None, 128)               16512     \n",
      "                                                                 \n",
      " dense_2 (Dense)             (None, 1)                 129       \n",
      "                                                                 \n",
      "=================================================================\n",
      "Total params: 21,889\n",
      "Trainable params: 21,889\n",
      "Non-trainable params: 0\n",
      "_________________________________________________________________\n"
     ]
    }
   ],
   "source": [
    "model.summary()"
   ]
  },
  {
   "cell_type": "code",
   "execution_count": 32,
   "metadata": {
    "colab": {
     "base_uri": "https://localhost:8080/"
    },
    "id": "3s3zisZzW6PX",
    "outputId": "4a4b843c-1a2f-4bc5-8e2b-16e015d9d813"
   },
   "outputs": [
    {
     "name": "stdout",
     "output_type": "stream",
     "text": [
      "CPU times: user 9.06 s, sys: 676 ms, total: 9.73 s\n",
      "Wall time: 7.55 s\n"
     ]
    },
    {
     "data": {
      "text/plain": [
       "<keras.callbacks.History at 0x7f5649a4e290>"
      ]
     },
     "execution_count": 32,
     "metadata": {},
     "output_type": "execute_result"
    }
   ],
   "source": [
    "%%time\n",
    "model.fit(data[cols], data['d'], epochs=50,\n",
    "          verbose=False, class_weight=cw(data))"
   ]
  },
  {
   "cell_type": "code",
   "execution_count": 33,
   "metadata": {
    "colab": {
     "base_uri": "https://localhost:8080/"
    },
    "id": "zL1c5EHYW4cb",
    "outputId": "a7fb9dd0-492a-4221-de37-58d04e535064"
   },
   "outputs": [
    {
     "name": "stdout",
     "output_type": "stream",
     "text": [
      "69/69 [==============================] - 0s 2ms/step - loss: 0.5980 - accuracy: 0.6015\n"
     ]
    },
    {
     "data": {
      "text/plain": [
       "[0.5980273485183716, 0.6014658808708191]"
      ]
     },
     "execution_count": 33,
     "metadata": {},
     "output_type": "execute_result"
    }
   ],
   "source": [
    "model.evaluate(data[cols], data['d'])"
   ]
  },
  {
   "cell_type": "code",
   "execution_count": 35,
   "metadata": {
    "id": "YOWUEKgyYJTv"
   },
   "outputs": [],
   "source": [
    "data['p'] = np.where(model.predict(data[cols]) > 0.5, 1, 0)"
   ]
  },
  {
   "cell_type": "code",
   "execution_count": 36,
   "metadata": {
    "colab": {
     "base_uri": "https://localhost:8080/"
    },
    "id": "ZCPP6jIsYU_a",
    "outputId": "3fa63168-cd8b-4bde-c770-5de02bd78dd2"
   },
   "outputs": [
    {
     "data": {
      "text/plain": [
       "1    1410\n",
       "0     773\n",
       "Name: p, dtype: int64"
      ]
     },
     "execution_count": 36,
     "metadata": {},
     "output_type": "execute_result"
    }
   ],
   "source": [
    "data['p'].value_counts()"
   ]
  },
  {
   "cell_type": "code",
   "execution_count": 37,
   "metadata": {
    "id": "jV2BB-KbYsWl"
   },
   "outputs": [],
   "source": [
    "split = int(len(data) * 0.8)"
   ]
  },
  {
   "cell_type": "code",
   "execution_count": 38,
   "metadata": {
    "id": "7LojecV0bcVs"
   },
   "outputs": [],
   "source": [
    "train = data.iloc[:split].copy()"
   ]
  },
  {
   "cell_type": "code",
   "execution_count": 39,
   "metadata": {
    "id": "fB4HnWGqbeYS"
   },
   "outputs": [],
   "source": [
    "test = data.iloc[split:].copy()"
   ]
  },
  {
   "cell_type": "code",
   "execution_count": 40,
   "metadata": {
    "id": "cq9HyhX9bgMC"
   },
   "outputs": [],
   "source": [
    "set_seeds()\n",
    "model = create_model(hl=1, hu=128)"
   ]
  },
  {
   "cell_type": "code",
   "execution_count": 41,
   "metadata": {
    "colab": {
     "base_uri": "https://localhost:8080/"
    },
    "id": "qvRt1zKbbhwq",
    "outputId": "7b47af3d-5740-4341-c88f-40679ea5bfd0"
   },
   "outputs": [
    {
     "name": "stdout",
     "output_type": "stream",
     "text": [
      "CPU times: user 7.6 s, sys: 477 ms, total: 8.08 s\n",
      "Wall time: 7.58 s\n"
     ]
    }
   ],
   "source": [
    "%%time \n",
    "h = model.fit(train[cols], train['d'],\n",
    "          epochs=50, verbose=False,\n",
    "          validation_split=0.2, shuffle=False,\n",
    "          class_weight=cw(train))"
   ]
  },
  {
   "cell_type": "code",
   "execution_count": 42,
   "metadata": {
    "colab": {
     "base_uri": "https://localhost:8080/"
    },
    "id": "Xwmc3zJlbj2V",
    "outputId": "cda19f21-4666-426c-a094-5b67470e81e6"
   },
   "outputs": [
    {
     "name": "stdout",
     "output_type": "stream",
     "text": [
      "55/55 [==============================] - 0s 2ms/step - loss: 0.6096 - accuracy: 0.5934\n"
     ]
    },
    {
     "data": {
      "text/plain": [
       "[0.6096417903900146, 0.5933562517166138]"
      ]
     },
     "execution_count": 42,
     "metadata": {},
     "output_type": "execute_result"
    }
   ],
   "source": [
    "model.evaluate(train[cols], train['d'])"
   ]
  },
  {
   "cell_type": "code",
   "execution_count": 43,
   "metadata": {
    "colab": {
     "base_uri": "https://localhost:8080/"
    },
    "id": "vd2x7X5ybn7t",
    "outputId": "c034d63a-6a47-4577-e4a6-47ce15173901"
   },
   "outputs": [
    {
     "name": "stdout",
     "output_type": "stream",
     "text": [
      "14/14 [==============================] - 0s 2ms/step - loss: 0.5931 - accuracy: 0.6133\n"
     ]
    },
    {
     "data": {
      "text/plain": [
       "[0.5931045413017273, 0.6132723093032837]"
      ]
     },
     "execution_count": 43,
     "metadata": {},
     "output_type": "execute_result"
    }
   ],
   "source": [
    "model.evaluate(test[cols], test['d'])"
   ]
  },
  {
   "cell_type": "code",
   "execution_count": 44,
   "metadata": {
    "id": "l64gJlX4bpd_"
   },
   "outputs": [],
   "source": [
    "test['p'] = np.where(model.predict(test[cols]) > 0.5, 1, 0)"
   ]
  },
  {
   "cell_type": "code",
   "execution_count": 45,
   "metadata": {
    "colab": {
     "base_uri": "https://localhost:8080/"
    },
    "id": "bFkbDkGYbvRL",
    "outputId": "2a143a25-7dda-4842-e5e9-c28de6e68b7c"
   },
   "outputs": [
    {
     "data": {
      "text/plain": [
       "1    284\n",
       "0    153\n",
       "Name: p, dtype: int64"
      ]
     },
     "execution_count": 45,
     "metadata": {},
     "output_type": "execute_result"
    }
   ],
   "source": [
    "test['p'].value_counts()"
   ]
  },
  {
   "cell_type": "code",
   "execution_count": 46,
   "metadata": {
    "id": "sMYMcBcGbxnT"
   },
   "outputs": [],
   "source": [
    "res = pd.DataFrame(h.history)"
   ]
  },
  {
   "cell_type": "code",
   "execution_count": 47,
   "metadata": {
    "colab": {
     "base_uri": "https://localhost:8080/",
     "height": 206
    },
    "id": "ZA3d22_NdHhR",
    "outputId": "4bd1f021-3168-4839-b5d6-6e1bd0919823"
   },
   "outputs": [
    {
     "data": {
      "text/html": [
       "\n",
       "  <div id=\"df-ba1d873f-baa2-42cb-a230-90e8e83764e7\">\n",
       "    <div class=\"colab-df-container\">\n",
       "      <div>\n",
       "<style scoped>\n",
       "    .dataframe tbody tr th:only-of-type {\n",
       "        vertical-align: middle;\n",
       "    }\n",
       "\n",
       "    .dataframe tbody tr th {\n",
       "        vertical-align: top;\n",
       "    }\n",
       "\n",
       "    .dataframe thead th {\n",
       "        text-align: right;\n",
       "    }\n",
       "</style>\n",
       "<table border=\"1\" class=\"dataframe\">\n",
       "  <thead>\n",
       "    <tr style=\"text-align: right;\">\n",
       "      <th></th>\n",
       "      <th>loss</th>\n",
       "      <th>accuracy</th>\n",
       "      <th>val_loss</th>\n",
       "      <th>val_accuracy</th>\n",
       "    </tr>\n",
       "  </thead>\n",
       "  <tbody>\n",
       "    <tr>\n",
       "      <th>0</th>\n",
       "      <td>0.7036</td>\n",
       "      <td>0.5509</td>\n",
       "      <td>0.6735</td>\n",
       "      <td>0.5686</td>\n",
       "    </tr>\n",
       "    <tr>\n",
       "      <th>1</th>\n",
       "      <td>0.6428</td>\n",
       "      <td>0.5745</td>\n",
       "      <td>0.6462</td>\n",
       "      <td>0.5686</td>\n",
       "    </tr>\n",
       "    <tr>\n",
       "      <th>2</th>\n",
       "      <td>0.6239</td>\n",
       "      <td>0.5774</td>\n",
       "      <td>0.6376</td>\n",
       "      <td>0.5543</td>\n",
       "    </tr>\n",
       "    <tr>\n",
       "      <th>3</th>\n",
       "      <td>0.6149</td>\n",
       "      <td>0.5695</td>\n",
       "      <td>0.6304</td>\n",
       "      <td>0.5743</td>\n",
       "    </tr>\n",
       "    <tr>\n",
       "      <th>4</th>\n",
       "      <td>0.6101</td>\n",
       "      <td>0.5695</td>\n",
       "      <td>0.6248</td>\n",
       "      <td>0.5743</td>\n",
       "    </tr>\n",
       "  </tbody>\n",
       "</table>\n",
       "</div>\n",
       "      <button class=\"colab-df-convert\" onclick=\"convertToInteractive('df-ba1d873f-baa2-42cb-a230-90e8e83764e7')\"\n",
       "              title=\"Convert this dataframe to an interactive table.\"\n",
       "              style=\"display:none;\">\n",
       "        \n",
       "  <svg xmlns=\"http://www.w3.org/2000/svg\" height=\"24px\"viewBox=\"0 0 24 24\"\n",
       "       width=\"24px\">\n",
       "    <path d=\"M0 0h24v24H0V0z\" fill=\"none\"/>\n",
       "    <path d=\"M18.56 5.44l.94 2.06.94-2.06 2.06-.94-2.06-.94-.94-2.06-.94 2.06-2.06.94zm-11 1L8.5 8.5l.94-2.06 2.06-.94-2.06-.94L8.5 2.5l-.94 2.06-2.06.94zm10 10l.94 2.06.94-2.06 2.06-.94-2.06-.94-.94-2.06-.94 2.06-2.06.94z\"/><path d=\"M17.41 7.96l-1.37-1.37c-.4-.4-.92-.59-1.43-.59-.52 0-1.04.2-1.43.59L10.3 9.45l-7.72 7.72c-.78.78-.78 2.05 0 2.83L4 21.41c.39.39.9.59 1.41.59.51 0 1.02-.2 1.41-.59l7.78-7.78 2.81-2.81c.8-.78.8-2.07 0-2.86zM5.41 20L4 18.59l7.72-7.72 1.47 1.35L5.41 20z\"/>\n",
       "  </svg>\n",
       "      </button>\n",
       "      \n",
       "  <style>\n",
       "    .colab-df-container {\n",
       "      display:flex;\n",
       "      flex-wrap:wrap;\n",
       "      gap: 12px;\n",
       "    }\n",
       "\n",
       "    .colab-df-convert {\n",
       "      background-color: #E8F0FE;\n",
       "      border: none;\n",
       "      border-radius: 50%;\n",
       "      cursor: pointer;\n",
       "      display: none;\n",
       "      fill: #1967D2;\n",
       "      height: 32px;\n",
       "      padding: 0 0 0 0;\n",
       "      width: 32px;\n",
       "    }\n",
       "\n",
       "    .colab-df-convert:hover {\n",
       "      background-color: #E2EBFA;\n",
       "      box-shadow: 0px 1px 2px rgba(60, 64, 67, 0.3), 0px 1px 3px 1px rgba(60, 64, 67, 0.15);\n",
       "      fill: #174EA6;\n",
       "    }\n",
       "\n",
       "    [theme=dark] .colab-df-convert {\n",
       "      background-color: #3B4455;\n",
       "      fill: #D2E3FC;\n",
       "    }\n",
       "\n",
       "    [theme=dark] .colab-df-convert:hover {\n",
       "      background-color: #434B5C;\n",
       "      box-shadow: 0px 1px 3px 1px rgba(0, 0, 0, 0.15);\n",
       "      filter: drop-shadow(0px 1px 2px rgba(0, 0, 0, 0.3));\n",
       "      fill: #FFFFFF;\n",
       "    }\n",
       "  </style>\n",
       "\n",
       "      <script>\n",
       "        const buttonEl =\n",
       "          document.querySelector('#df-ba1d873f-baa2-42cb-a230-90e8e83764e7 button.colab-df-convert');\n",
       "        buttonEl.style.display =\n",
       "          google.colab.kernel.accessAllowed ? 'block' : 'none';\n",
       "\n",
       "        async function convertToInteractive(key) {\n",
       "          const element = document.querySelector('#df-ba1d873f-baa2-42cb-a230-90e8e83764e7');\n",
       "          const dataTable =\n",
       "            await google.colab.kernel.invokeFunction('convertToInteractive',\n",
       "                                                     [key], {});\n",
       "          if (!dataTable) return;\n",
       "\n",
       "          const docLinkHtml = 'Like what you see? Visit the ' +\n",
       "            '<a target=\"_blank\" href=https://colab.research.google.com/notebooks/data_table.ipynb>data table notebook</a>'\n",
       "            + ' to learn more about interactive tables.';\n",
       "          element.innerHTML = '';\n",
       "          dataTable['output_type'] = 'display_data';\n",
       "          await google.colab.output.renderOutput(dataTable, element);\n",
       "          const docLink = document.createElement('div');\n",
       "          docLink.innerHTML = docLinkHtml;\n",
       "          element.appendChild(docLink);\n",
       "        }\n",
       "      </script>\n",
       "    </div>\n",
       "  </div>\n",
       "  "
      ],
      "text/plain": [
       "     loss  accuracy  val_loss  val_accuracy\n",
       "0  0.7036    0.5509    0.6735        0.5686\n",
       "1  0.6428    0.5745    0.6462        0.5686\n",
       "2  0.6239    0.5774    0.6376        0.5543\n",
       "3  0.6149    0.5695    0.6304        0.5743\n",
       "4  0.6101    0.5695    0.6248        0.5743"
      ]
     },
     "execution_count": 47,
     "metadata": {},
     "output_type": "execute_result"
    }
   ],
   "source": [
    "res.head()"
   ]
  },
  {
   "cell_type": "code",
   "execution_count": 48,
   "metadata": {
    "colab": {
     "base_uri": "https://localhost:8080/",
     "height": 373
    },
    "id": "R2A-1IISdR40",
    "outputId": "25f069a4-6e43-4539-f84d-4ba7f6928b42"
   },
   "outputs": [
    {
     "data": {
      "image/png": "[encoded data removed]",
      "text/plain": [
       "<Figure size 720x432 with 1 Axes>"
      ]
     },
     "metadata": {},
     "output_type": "display_data"
    }
   ],
   "source": [
    "res[['loss', 'val_loss']].plot(figsize=(10, 6), style='--');"
   ]
  },
  {
   "cell_type": "code",
   "execution_count": 49,
   "metadata": {
    "colab": {
     "base_uri": "https://localhost:8080/",
     "height": 373
    },
    "id": "_uh6UqKRbze-",
    "outputId": "01960749-3760-4c2d-f9dd-6ea362e7ebfd"
   },
   "outputs": [
    {
     "data": {
      "image/png": "[encoded data removed]",
      "text/plain": [
       "<Figure size 720x432 with 1 Axes>"
      ]
     },
     "metadata": {},
     "output_type": "display_data"
    }
   ],
   "source": [
    "res[['accuracy', 'val_accuracy']].plot(figsize=(10, 6), style='--');"
   ]
  },
  {
   "cell_type": "markdown",
   "metadata": {
    "id": "Q4zH8ciyb94j"
   },
   "source": [
    "## Normalization"
   ]
  },
  {
   "cell_type": "code",
   "execution_count": 50,
   "metadata": {
    "id": "Uzx4rgWwcAOL"
   },
   "outputs": [],
   "source": [
    "mu, std = train.mean(), train.std()"
   ]
  },
  {
   "cell_type": "code",
   "execution_count": 51,
   "metadata": {
    "id": "6QubhtpscD3w"
   },
   "outputs": [],
   "source": [
    "train_ = (train - mu) / std"
   ]
  },
  {
   "cell_type": "code",
   "execution_count": 52,
   "metadata": {
    "id": "krVvfPzYdlCP"
   },
   "outputs": [],
   "source": [
    "set_seeds()\n",
    "model = create_model(hl=2, hu=128)"
   ]
  },
  {
   "cell_type": "code",
   "execution_count": 53,
   "metadata": {
    "colab": {
     "base_uri": "https://localhost:8080/"
    },
    "id": "JL2Eu6qcdp0J",
    "outputId": "47afffc9-2b3a-4a90-f1de-7e77a874ad5b"
   },
   "outputs": [
    {
     "name": "stdout",
     "output_type": "stream",
     "text": [
      "CPU times: user 8.62 s, sys: 490 ms, total: 9.11 s\n",
      "Wall time: 7.32 s\n"
     ]
    }
   ],
   "source": [
    "%%time \n",
    "h = model.fit(train_[cols], train['d'],\n",
    "          epochs=50, verbose=False,\n",
    "          validation_split=0.2, shuffle=False,\n",
    "          class_weight=cw(train))"
   ]
  },
  {
   "cell_type": "code",
   "execution_count": 54,
   "metadata": {
    "colab": {
     "base_uri": "https://localhost:8080/"
    },
    "id": "DwAjtuaJG8Cz",
    "outputId": "66d5c01e-a0c3-4009-efe8-b826b486fa3e"
   },
   "outputs": [
    {
     "name": "stdout",
     "output_type": "stream",
     "text": [
      "55/55 [==============================] - 0s 2ms/step - loss: 0.3979 - accuracy: 0.9187\n"
     ]
    },
    {
     "data": {
      "text/plain": [
       "[0.3979237675666809, 0.9186712503433228]"
      ]
     },
     "execution_count": 54,
     "metadata": {},
     "output_type": "execute_result"
    }
   ],
   "source": [
    "model.evaluate(train_[cols], train['d'])"
   ]
  },
  {
   "cell_type": "code",
   "execution_count": 55,
   "metadata": {
    "id": "xSqdLFlyG-DY"
   },
   "outputs": [],
   "source": [
    "test_ = (test - mu) / std"
   ]
  },
  {
   "cell_type": "code",
   "execution_count": 56,
   "metadata": {
    "colab": {
     "base_uri": "https://localhost:8080/"
    },
    "id": "-6Qrij9YHFev",
    "outputId": "966b281a-c252-4931-b836-d4d755aa942f"
   },
   "outputs": [
    {
     "name": "stdout",
     "output_type": "stream",
     "text": [
      "14/14 [==============================] - 0s 2ms/step - loss: 1.3772 - accuracy: 0.6682\n"
     ]
    },
    {
     "data": {
      "text/plain": [
       "[1.3772422075271606, 0.6681922078132629]"
      ]
     },
     "execution_count": 56,
     "metadata": {},
     "output_type": "execute_result"
    }
   ],
   "source": [
    "model.evaluate(test_[cols], test['d'])"
   ]
  },
  {
   "cell_type": "code",
   "execution_count": 57,
   "metadata": {
    "colab": {
     "base_uri": "https://localhost:8080/"
    },
    "id": "jNbgmseZKv54",
    "outputId": "db95b137-b2a9-47d3-bd5e-427774b15d30"
   },
   "outputs": [
    {
     "name": "stdout",
     "output_type": "stream",
     "text": [
      "Model: \"sequential_2\"\n",
      "_________________________________________________________________\n",
      " Layer (type)                Output Shape              Param #   \n",
      "=================================================================\n",
      " dense_6 (Dense)             (None, 128)               5248      \n",
      "                                                                 \n",
      " dense_7 (Dense)             (None, 128)               16512     \n",
      "                                                                 \n",
      " dense_8 (Dense)             (None, 128)               16512     \n",
      "                                                                 \n",
      " dense_9 (Dense)             (None, 1)                 129       \n",
      "                                                                 \n",
      "=================================================================\n",
      "Total params: 38,401\n",
      "Trainable params: 38,401\n",
      "Non-trainable params: 0\n",
      "_________________________________________________________________\n"
     ]
    }
   ],
   "source": [
    "model.summary()"
   ]
  },
  {
   "cell_type": "code",
   "execution_count": 58,
   "metadata": {
    "id": "hQeLF32YHIZD"
   },
   "outputs": [],
   "source": [
    "test['p'] = np.where(model.predict(test_[cols]) > 0.5, 1, 0)"
   ]
  },
  {
   "cell_type": "code",
   "execution_count": 59,
   "metadata": {
    "colab": {
     "base_uri": "https://localhost:8080/"
    },
    "id": "D3725RmAHNIC",
    "outputId": "1cc7f7e0-27c6-41e3-e19f-fa31ef979607"
   },
   "outputs": [
    {
     "data": {
      "text/plain": [
       "0    303\n",
       "1    134\n",
       "Name: p, dtype: int64"
      ]
     },
     "execution_count": 59,
     "metadata": {},
     "output_type": "execute_result"
    }
   ],
   "source": [
    "test['p'].value_counts()"
   ]
  },
  {
   "cell_type": "code",
   "execution_count": 60,
   "metadata": {
    "id": "rq2ZB3vpHOlS"
   },
   "outputs": [],
   "source": [
    "res = pd.DataFrame(h.history)"
   ]
  },
  {
   "cell_type": "code",
   "execution_count": 61,
   "metadata": {
    "colab": {
     "base_uri": "https://localhost:8080/",
     "height": 373
    },
    "id": "U_4BsaO0H910",
    "outputId": "9f5a274f-76db-4bc3-e764-6ff3f4c0aeba"
   },
   "outputs": [
    {
     "data": {
      "image/png": "[encoded data removed]",
      "text/plain": [
       "<Figure size 720x432 with 1 Axes>"
      ]
     },
     "metadata": {},
     "output_type": "display_data"
    }
   ],
   "source": [
    "res[['loss','val_loss']].plot(figsize=(10,6),style='--');"
   ]
  },
  {
   "cell_type": "code",
   "execution_count": 62,
   "metadata": {
    "colab": {
     "base_uri": "https://localhost:8080/",
     "height": 373
    },
    "id": "6Em9OLJnHQpN",
    "outputId": "8d8b8936-9a5a-41fb-880a-cea37394b884"
   },
   "outputs": [
    {
     "data": {
      "image/png": "[encoded data removed]",
      "text/plain": [
       "<Figure size 720x432 with 1 Axes>"
      ]
     },
     "metadata": {},
     "output_type": "display_data"
    }
   ],
   "source": [
    "res[['accuracy', 'val_accuracy']].plot(figsize=(10, 6), style='--');"
   ]
  },
  {
   "cell_type": "markdown",
   "metadata": {
    "id": "CqnwNeTaHWeF"
   },
   "source": [
    "## Dropout "
   ]
  },
  {
   "cell_type": "code",
   "execution_count": 63,
   "metadata": {
    "id": "u5vF_hCsHZVy"
   },
   "outputs": [],
   "source": [
    "from keras.layers import Dropout"
   ]
  },
  {
   "cell_type": "code",
   "execution_count": 64,
   "metadata": {
    "id": "sBThWXVeHcnZ"
   },
   "outputs": [],
   "source": [
    "def create_model(hl=1, hu=128, dropout=True, rate=0.3,\n",
    "                 optimizer=optimizer):\n",
    "    model = Sequential()\n",
    "    model.add(Dense(hu, input_dim=len(cols),\n",
    "                    activation='relu'))\n",
    "    if dropout:\n",
    "        model.add(Dropout(rate, seed=100))\n",
    "    for _ in range(hl):\n",
    "        model.add(Dense(hu, activation='relu'))\n",
    "        if dropout:\n",
    "            model.add(Dropout(rate, seed=100))\n",
    "    model.add(Dense(1, activation='sigmoid'))\n",
    "    model.compile(loss='binary_crossentropy', optimizer=optimizer,\n",
    "                 metrics=['accuracy'])\n",
    "    return model"
   ]
  },
  {
   "cell_type": "code",
   "execution_count": 65,
   "metadata": {
    "id": "LlyGQ5JxIWEY"
   },
   "outputs": [],
   "source": [
    "set_seeds()\n",
    "model = create_model(hl=1, hu=128, rate=0.3)"
   ]
  },
  {
   "cell_type": "code",
   "execution_count": 66,
   "metadata": {
    "colab": {
     "base_uri": "https://localhost:8080/"
    },
    "id": "9xRl99thyat5",
    "outputId": "a496e981-c394-436e-f060-63ffbc6306eb"
   },
   "outputs": [
    {
     "name": "stdout",
     "output_type": "stream",
     "text": [
      "Model: \"sequential_3\"\n",
      "_________________________________________________________________\n",
      " Layer (type)                Output Shape              Param #   \n",
      "=================================================================\n",
      " dense_10 (Dense)            (None, 128)               5248      \n",
      "                                                                 \n",
      " dropout (Dropout)           (None, 128)               0         \n",
      "                                                                 \n",
      " dense_11 (Dense)            (None, 128)               16512     \n",
      "                                                                 \n",
      " dropout_1 (Dropout)         (None, 128)               0         \n",
      "                                                                 \n",
      " dense_12 (Dense)            (None, 1)                 129       \n",
      "                                                                 \n",
      "=================================================================\n",
      "Total params: 21,889\n",
      "Trainable params: 21,889\n",
      "Non-trainable params: 0\n",
      "_________________________________________________________________\n"
     ]
    }
   ],
   "source": [
    "model.summary()"
   ]
  },
  {
   "cell_type": "code",
   "execution_count": 67,
   "metadata": {
    "colab": {
     "base_uri": "https://localhost:8080/"
    },
    "id": "uQ2MpbuBLV-I",
    "outputId": "81318091-8be3-466e-8710-806b67740cac"
   },
   "outputs": [
    {
     "name": "stdout",
     "output_type": "stream",
     "text": [
      "CPU times: user 8.53 s, sys: 533 ms, total: 9.07 s\n",
      "Wall time: 7.57 s\n"
     ]
    }
   ],
   "source": [
    "%%time \n",
    "h = model.fit(train_[cols], train['d'],\n",
    "          epochs=50, verbose=False,\n",
    "          validation_split=0.15, shuffle=False,\n",
    "          class_weight=cw(train))"
   ]
  },
  {
   "cell_type": "code",
   "execution_count": 68,
   "metadata": {
    "colab": {
     "base_uri": "https://localhost:8080/"
    },
    "id": "93UJBIyhLXgK",
    "outputId": "fd82aa06-eaea-4262-915e-ee7df6e3bc3b"
   },
   "outputs": [
    {
     "name": "stdout",
     "output_type": "stream",
     "text": [
      "55/55 [==============================] - 0s 2ms/step - loss: 0.4620 - accuracy: 0.7509\n"
     ]
    },
    {
     "data": {
      "text/plain": [
       "[0.4620104432106018, 0.7508590817451477]"
      ]
     },
     "execution_count": 68,
     "metadata": {},
     "output_type": "execute_result"
    }
   ],
   "source": [
    "model.evaluate(train_[cols], train['d'])"
   ]
  },
  {
   "cell_type": "code",
   "execution_count": 69,
   "metadata": {
    "colab": {
     "base_uri": "https://localhost:8080/"
    },
    "id": "qTUh1a8NLa1Y",
    "outputId": "86440f02-b0c4-440c-fce7-9906af2b529f"
   },
   "outputs": [
    {
     "name": "stdout",
     "output_type": "stream",
     "text": [
      "14/14 [==============================] - 0s 2ms/step - loss: 0.5501 - accuracy: 0.6590\n"
     ]
    },
    {
     "data": {
      "text/plain": [
       "[0.5500621795654297, 0.6590389013290405]"
      ]
     },
     "execution_count": 69,
     "metadata": {},
     "output_type": "execute_result"
    }
   ],
   "source": [
    "model.evaluate(test_[cols], test['d'])"
   ]
  },
  {
   "cell_type": "code",
   "execution_count": 70,
   "metadata": {
    "id": "azZjoeXRLdMw"
   },
   "outputs": [],
   "source": [
    "res = pd.DataFrame(h.history)"
   ]
  },
  {
   "cell_type": "code",
   "execution_count": 71,
   "metadata": {
    "colab": {
     "base_uri": "https://localhost:8080/",
     "height": 373
    },
    "id": "cvR1LmoALiGE",
    "outputId": "e608aa78-5da2-43b2-e83e-744a0ad793a4"
   },
   "outputs": [
    {
     "data": {
      "image/png": "[encoded data removed]",
      "text/plain": [
       "<Figure size 720x432 with 1 Axes>"
      ]
     },
     "metadata": {},
     "output_type": "display_data"
    }
   ],
   "source": [
    "res[['loss','val_loss']].plot(figsize=(10,6),style='--');"
   ]
  },
  {
   "cell_type": "code",
   "execution_count": 72,
   "metadata": {
    "colab": {
     "base_uri": "https://localhost:8080/",
     "height": 373
    },
    "id": "5kR3bnHaLfE0",
    "outputId": "b4d94de2-a67e-454b-b23a-658d094b31e8"
   },
   "outputs": [
    {
     "data": {
      "image/png": "[encoded data removed]",
      "text/plain": [
       "<Figure size 720x432 with 1 Axes>"
      ]
     },
     "metadata": {},
     "output_type": "display_data"
    }
   ],
   "source": [
    "res[['accuracy', 'val_accuracy']].plot(figsize=(10, 6), style='--');"
   ]
  },
  {
   "cell_type": "markdown",
   "metadata": {
    "id": "CUPlXsO-Lw9-"
   },
   "source": [
    "## Regularization "
   ]
  },
  {
   "cell_type": "code",
   "execution_count": 73,
   "metadata": {
    "id": "t8vhsq7hLxp0"
   },
   "outputs": [],
   "source": [
    "from keras.regularizers import l1, l2"
   ]
  },
  {
   "cell_type": "code",
   "execution_count": 74,
   "metadata": {
    "id": "45gb2V_IL0uC"
   },
   "outputs": [],
   "source": [
    "def create_model(hl=1, hu=128, dropout=False, rate=0.3, \n",
    "                 regularize=False, reg=l1(0.0005),\n",
    "                 optimizer=optimizer, input_dim=len(cols)):\n",
    "    if not regularize:\n",
    "        reg = None\n",
    "    model = Sequential()\n",
    "    model.add(Dense(hu, input_dim=input_dim,\n",
    "                    activity_regularizer=reg,\n",
    "                    activation='relu'))\n",
    "    if dropout:\n",
    "        model.add(Dropout(rate, seed=100))\n",
    "    for _ in range(hl):\n",
    "        model.add(Dense(hu, activation='relu',\n",
    "                        activity_regularizer=reg))\n",
    "        if dropout:\n",
    "            model.add(Dropout(rate, seed=100))\n",
    "    model.add(Dense(1, activation='sigmoid'))\n",
    "    model.compile(loss='binary_crossentropy', optimizer=optimizer,\n",
    "                 metrics=['accuracy'])\n",
    "    return model"
   ]
  },
  {
   "cell_type": "code",
   "execution_count": 75,
   "metadata": {
    "id": "tirvmoRcL2gs"
   },
   "outputs": [],
   "source": [
    "set_seeds()\n",
    "model = create_model(hl=1, hu=128, regularize=True)"
   ]
  },
  {
   "cell_type": "code",
   "execution_count": 76,
   "metadata": {
    "colab": {
     "base_uri": "https://localhost:8080/"
    },
    "id": "lGBGWV6sL4Li",
    "outputId": "b56d934e-9c56-4ecf-cb6d-0261906d7d6b"
   },
   "outputs": [
    {
     "name": "stdout",
     "output_type": "stream",
     "text": [
      "CPU times: user 7.93 s, sys: 500 ms, total: 8.43 s\n",
      "Wall time: 11 s\n"
     ]
    }
   ],
   "source": [
    "%%time \n",
    "h = model.fit(train_[cols], train['d'],\n",
    "          epochs=50, verbose=False,\n",
    "          validation_split=0.2, shuffle=False,\n",
    "          class_weight=cw(train))"
   ]
  },
  {
   "cell_type": "code",
   "execution_count": 77,
   "metadata": {
    "colab": {
     "base_uri": "https://localhost:8080/"
    },
    "id": "uRSZaxFoL5dg",
    "outputId": "6f265274-ed91-4426-b58d-f78f12cf6745"
   },
   "outputs": [
    {
     "name": "stdout",
     "output_type": "stream",
     "text": [
      "55/55 [==============================] - 0s 1ms/step - loss: 0.3484 - accuracy: 0.8946\n"
     ]
    },
    {
     "data": {
      "text/plain": [
       "[0.3483869135379791, 0.8946162462234497]"
      ]
     },
     "execution_count": 77,
     "metadata": {},
     "output_type": "execute_result"
    }
   ],
   "source": [
    "model.evaluate(train_[cols], train['d'])"
   ]
  },
  {
   "cell_type": "code",
   "execution_count": 78,
   "metadata": {
    "colab": {
     "base_uri": "https://localhost:8080/"
    },
    "id": "TDaPnLCM8HGK",
    "outputId": "ba28a268-6631-483d-b0f5-803c69d2bb73"
   },
   "outputs": [
    {
     "name": "stdout",
     "output_type": "stream",
     "text": [
      "14/14 [==============================] - 0s 2ms/step - loss: 0.8808 - accuracy: 0.6568\n"
     ]
    },
    {
     "data": {
      "text/plain": [
       "[0.8808029890060425, 0.6567505598068237]"
      ]
     },
     "execution_count": 78,
     "metadata": {},
     "output_type": "execute_result"
    }
   ],
   "source": [
    "model.evaluate(test_[cols], test['d'])"
   ]
  },
  {
   "cell_type": "code",
   "execution_count": 79,
   "metadata": {
    "id": "-9sHz33t8IbX"
   },
   "outputs": [],
   "source": [
    "res = pd.DataFrame(h.history)"
   ]
  },
  {
   "cell_type": "code",
   "execution_count": 80,
   "metadata": {
    "colab": {
     "base_uri": "https://localhost:8080/",
     "height": 373
    },
    "id": "ZOTxnH-H8KLA",
    "outputId": "75b884fe-ec0a-4b8e-b8a3-3abf5fd5847a"
   },
   "outputs": [
    {
     "data": {
      "image/png": "[encoded data removed]",
      "text/plain": [
       "<Figure size 720x432 with 1 Axes>"
      ]
     },
     "metadata": {},
     "output_type": "display_data"
    }
   ],
   "source": [
    "res[['accuracy', 'val_accuracy']].plot(figsize=(10, 6), style='--');"
   ]
  },
  {
   "cell_type": "code",
   "execution_count": 81,
   "metadata": {
    "colab": {
     "base_uri": "https://localhost:8080/"
    },
    "id": "BYN_4avK8MbJ",
    "outputId": "1d4d25e0-efdf-4bba-cdf0-0cad79c1b559"
   },
   "outputs": [
    {
     "data": {
      "text/plain": [
       "0.1802582883834839"
      ]
     },
     "execution_count": 81,
     "metadata": {},
     "output_type": "execute_result"
    }
   ],
   "source": [
    "res.mean()['accuracy'] - res.mean()['val_accuracy']"
   ]
  },
  {
   "cell_type": "markdown",
   "metadata": {
    "id": "5g0clSnf8Pfq"
   },
   "source": [
    "## Bagging"
   ]
  },
  {
   "cell_type": "code",
   "execution_count": 82,
   "metadata": {
    "id": "-k22q2S_8SHB"
   },
   "outputs": [],
   "source": [
    "from sklearn.ensemble import BaggingClassifier\n",
    "from keras.wrappers.scikit_learn import KerasClassifier"
   ]
  },
  {
   "cell_type": "code",
   "execution_count": 83,
   "metadata": {
    "colab": {
     "base_uri": "https://localhost:8080/"
    },
    "id": "iaFPvkpo8VIq",
    "outputId": "3882b97c-778c-4e75-cd49-b57ca001015e"
   },
   "outputs": [
    {
     "data": {
      "text/plain": [
       "40"
      ]
     },
     "execution_count": 83,
     "metadata": {},
     "output_type": "execute_result"
    }
   ],
   "source": [
    "len(cols)"
   ]
  },
  {
   "cell_type": "code",
   "execution_count": 84,
   "metadata": {
    "id": "LxGYnxxE8ncH"
   },
   "outputs": [],
   "source": [
    "max_features = 0.75"
   ]
  },
  {
   "cell_type": "code",
   "execution_count": 85,
   "metadata": {
    "colab": {
     "base_uri": "https://localhost:8080/"
    },
    "id": "j664ATsf8pGQ",
    "outputId": "977c073e-7689-47e4-e545-e1c4cd64db8a"
   },
   "outputs": [
    {
     "name": "stderr",
     "output_type": "stream",
     "text": [
      "/usr/local/lib/python3.7/dist-packages/ipykernel_launcher.py:5: DeprecationWarning: KerasClassifier is deprecated, use Sci-Keras (https://github.com/adriangb/scikeras) instead. See https://www.adriangb.com/scikeras/stable/migration.html for help migrating.\n",
      "  \"\"\"\n"
     ]
    }
   ],
   "source": [
    "set_seeds()\n",
    "base_estimator = KerasClassifier(build_fn=create_model,\n",
    "                        verbose=False, epochs=20, hl=1, hu=128,\n",
    "                        dropout=True, regularize=False,\n",
    "                        input_dim=int(len(cols) * max_features))"
   ]
  },
  {
   "cell_type": "code",
   "execution_count": 86,
   "metadata": {
    "id": "XUoaYzvP8q49"
   },
   "outputs": [],
   "source": [
    "model_bag = BaggingClassifier(base_estimator=base_estimator,\n",
    "                          n_estimators=15,\n",
    "                          max_samples=0.75,\n",
    "                          max_features=max_features,\n",
    "                          bootstrap=True,\n",
    "                          bootstrap_features=True,\n",
    "                          n_jobs=1,\n",
    "                          random_state=100,\n",
    "                         )"
   ]
  },
  {
   "cell_type": "code",
   "execution_count": 87,
   "metadata": {
    "colab": {
     "base_uri": "https://localhost:8080/"
    },
    "id": "Sk4dgjWb82X4",
    "outputId": "8a450a03-7012-4ebd-a987-d9e4c2f875e2"
   },
   "outputs": [
    {
     "name": "stdout",
     "output_type": "stream",
     "text": [
      "CPU times: user 37.9 s, sys: 2.23 s, total: 40.1 s\n",
      "Wall time: 39.9 s\n"
     ]
    },
    {
     "data": {
      "text/plain": [
       "BaggingClassifier(base_estimator=<keras.wrappers.scikit_learn.KerasClassifier object at 0x7f5649481f50>,\n",
       "                  bootstrap_features=True, max_features=0.75, max_samples=0.75,\n",
       "                  n_estimators=15, n_jobs=1, random_state=100)"
      ]
     },
     "execution_count": 87,
     "metadata": {},
     "output_type": "execute_result"
    }
   ],
   "source": [
    "%time model_bag.fit(train_[cols], train['d'])"
   ]
  },
  {
   "cell_type": "code",
   "execution_count": 88,
   "metadata": {
    "colab": {
     "base_uri": "https://localhost:8080/"
    },
    "id": "cumvxki8ZUrW",
    "outputId": "e07010b8-87c2-43de-da5b-b5e7214a4f73"
   },
   "outputs": [
    {
     "data": {
      "text/plain": [
       "0.7571592210767468"
      ]
     },
     "execution_count": 88,
     "metadata": {},
     "output_type": "execute_result"
    }
   ],
   "source": [
    "model_bag.score(train_[cols], train['d'])"
   ]
  },
  {
   "cell_type": "code",
   "execution_count": 89,
   "metadata": {
    "colab": {
     "base_uri": "https://localhost:8080/"
    },
    "id": "jXCEJUN5ZXUz",
    "outputId": "21c532e0-0518-4e1d-ef16-4abb4faa4c63"
   },
   "outputs": [
    {
     "data": {
      "text/plain": [
       "0.6704805491990846"
      ]
     },
     "execution_count": 89,
     "metadata": {},
     "output_type": "execute_result"
    }
   ],
   "source": [
    "model_bag.score(test_[cols], test['d'])"
   ]
  },
  {
   "cell_type": "code",
   "execution_count": 90,
   "metadata": {
    "id": "Qb1gN9rCZZGg"
   },
   "outputs": [],
   "source": [
    "test['p'] = model_bag.predict(test_[cols])"
   ]
  },
  {
   "cell_type": "code",
   "execution_count": 91,
   "metadata": {
    "colab": {
     "base_uri": "https://localhost:8080/"
    },
    "id": "kXT8WYY5ZafP",
    "outputId": "b45008e8-a5b8-41da-803f-cd777493accc"
   },
   "outputs": [
    {
     "data": {
      "text/plain": [
       "0    388\n",
       "1     49\n",
       "Name: p, dtype: int64"
      ]
     },
     "execution_count": 91,
     "metadata": {},
     "output_type": "execute_result"
    }
   ],
   "source": [
    "test['p'].value_counts()"
   ]
  },
  {
   "cell_type": "markdown",
   "metadata": {
    "id": "Ch1lpJPxZv51"
   },
   "source": [
    "## Optimizers"
   ]
  },
  {
   "cell_type": "code",
   "execution_count": 92,
   "metadata": {
    "id": "_VvtMH3qZzK3"
   },
   "outputs": [],
   "source": [
    "import time"
   ]
  },
  {
   "cell_type": "code",
   "execution_count": 93,
   "metadata": {
    "id": "B2Zd7-xVZ0w_"
   },
   "outputs": [],
   "source": [
    "optimizers = ['sgd', 'rmsprop', 'adagrad', 'adadelta',\n",
    "              'adam', 'adamax', 'nadam']"
   ]
  },
  {
   "cell_type": "code",
   "execution_count": 94,
   "metadata": {
    "colab": {
     "base_uri": "https://localhost:8080/"
    },
    "id": "uxbfV-tHZ2G1",
    "outputId": "a7d256cf-489d-49fd-9d31-9f62cc5d8856"
   },
   "outputs": [
    {
     "name": "stdout",
     "output_type": "stream",
     "text": [
      "sgd        | time[s]: 11.0665 | in-sample=0.6100 | out-of-sample=0.6453\n",
      "rmsprop    | time[s]: 10.9739 | in-sample=0.7182 | out-of-sample=0.6339\n",
      "adagrad    | time[s]: 10.8284 | in-sample=0.5682 | out-of-sample=0.6362\n",
      "adadelta   | time[s]: 6.3868 | in-sample=0.6438 | out-of-sample=0.6545\n",
      "adam       | time[s]: 6.7991 | in-sample=0.7285 | out-of-sample=0.6590\n",
      "adamax     | time[s]: 10.8565 | in-sample=0.6375 | out-of-sample=0.6613\n",
      "nadam      | time[s]: 7.6476 | in-sample=0.7159 | out-of-sample=0.6522\n",
      "CPU times: user 54.9 s, sys: 2.82 s, total: 57.7 s\n",
      "Wall time: 1min 6s\n"
     ]
    }
   ],
   "source": [
    "%%time\n",
    "for optimizer in optimizers:\n",
    "    set_seeds()\n",
    "    model = create_model(hl=1, hu=128,\n",
    "                     dropout=True, rate=0.3,\n",
    "                     regularize=False, reg=l2(0.001),\n",
    "                     optimizer=optimizer\n",
    "                    )\n",
    "    t0 = time.time()\n",
    "    model.fit(train_[cols], train['d'],\n",
    "              epochs=50, verbose=False,\n",
    "              validation_split=0.2, shuffle=False,\n",
    "              class_weight=cw(train))\n",
    "    t1 = time.time()\n",
    "    t = t1 - t0\n",
    "    acc_tr = model.evaluate(train_[cols], train['d'], verbose=False)[1]\n",
    "    acc_te = model.evaluate(test_[cols], test['d'], verbose=False)[1]\n",
    "    out = f'{optimizer:10s} | time[s]: {t:.4f} | in-sample={acc_tr:.4f}'\n",
    "    out += f' | out-of-sample={acc_te:.4f}'\n",
    "    print(out)"
   ]
  },
  {
   "cell_type": "code",
   "execution_count": 95,
   "metadata": {
    "id": "1XIhORK7Z48R"
   },
   "outputs": [],
   "source": [
    "test['p'] = np.where(model.predict(test_[cols]) > 0.5, 1, 0)"
   ]
  },
  {
   "cell_type": "code",
   "execution_count": 96,
   "metadata": {
    "colab": {
     "base_uri": "https://localhost:8080/"
    },
    "id": "NPWDPVEWh9yC",
    "outputId": "b03b29f5-6ecc-482f-bdea-05acf29f7d40"
   },
   "outputs": [
    {
     "data": {
      "text/plain": [
       "0    234\n",
       "1    203\n",
       "Name: p, dtype: int64"
      ]
     },
     "execution_count": 96,
     "metadata": {},
     "output_type": "execute_result"
    }
   ],
   "source": [
    "test['p'].value_counts()"
   ]
  },
  {
   "cell_type": "code",
   "execution_count": 97,
   "metadata": {
    "colab": {
     "base_uri": "https://localhost:8080/"
    },
    "id": "zcs9koZeh_CW",
    "outputId": "b550ddaa-ef8b-40dc-e10a-52024e8afbb8"
   },
   "outputs": [
    {
     "data": {
      "text/plain": [
       "0.6521739130434783"
      ]
     },
     "execution_count": 97,
     "metadata": {},
     "output_type": "execute_result"
    }
   ],
   "source": [
    "accuracy_score(test['p'], test['d'])"
   ]
  },
  {
   "cell_type": "code",
   "execution_count": 98,
   "metadata": {
    "colab": {
     "base_uri": "https://localhost:8080/"
    },
    "id": "LRtovkRGiBNd",
    "outputId": "7894f0d7-970c-4bc8-9d36-582631563c9f"
   },
   "outputs": [
    {
     "name": "stdout",
     "output_type": "stream",
     "text": [
      "sgd        | time[s]: 6.1608 | in-sample=0.6225 | out-of-sample=0.5886\n",
      "rmsprop    | time[s]: 10.9763 | in-sample=0.7085 | out-of-sample=0.6257\n",
      "adagrad    | time[s]: 10.7950 | in-sample=0.6182 | out-of-sample=0.5114\n",
      "adadelta   | time[s]: 10.8168 | in-sample=0.6354 | out-of-sample=0.6114\n",
      "adam       | time[s]: 6.7074 | in-sample=0.7264 | out-of-sample=0.6143\n",
      "adamax     | time[s]: 11.3149 | in-sample=0.6612 | out-of-sample=0.6029\n",
      "nadam      | time[s]: 7.3959 | in-sample=0.7256 | out-of-sample=0.6114\n",
      "CPU times: user 52.1 s, sys: 2.89 s, total: 55 s\n",
      "Wall time: 1min 4s\n"
     ]
    }
   ],
   "source": [
    "%%time\n",
    "for optimizer in optimizers:\n",
    "    set_seeds()\n",
    "    model = create_model(hl=1, hu=128,\n",
    "                     dropout=True, rate=0.3,\n",
    "                     regularize=False, reg=l2(0.001),\n",
    "                     optimizer=optimizer\n",
    "                    )\n",
    "    t0 = time.time()\n",
    "    h = model.fit(train_[cols], train['d'],\n",
    "              epochs=50, verbose=False,\n",
    "              validation_split=0.2, shuffle=False,\n",
    "              class_weight=cw(train))\n",
    "    t1 = time.time()\n",
    "    t = t1 - t0\n",
    "\n",
    "    acc_tr = h.history['accuracy'][-1]\n",
    "    acc_va = h.history['val_accuracy'][-1]\n",
    "\n",
    "    out = f'{optimizer:10s} | time[s]: {t:.4f} | in-sample={acc_tr:.4f}'\n",
    "    out += f' | out-of-sample={acc_va:.4f}'\n",
    "    print(out)"
   ]
  },
  {
   "cell_type": "code",
   "execution_count": 99,
   "metadata": {
    "id": "MPb9EKHGtFA1"
   },
   "outputs": [],
   "source": [
    "optimizers = ['sgd', 'rmsprop', 'adagrad', 'adadelta',\n",
    "              'adam', 'adamax', 'nadam']"
   ]
  },
  {
   "cell_type": "code",
   "execution_count": 100,
   "metadata": {
    "colab": {
     "base_uri": "https://localhost:8080/"
    },
    "id": "73f_RmFHqbGA",
    "outputId": "dfe90f6a-100f-416b-c6e9-9b551b1d7c0c"
   },
   "outputs": [
    {
     "name": "stdout",
     "output_type": "stream",
     "text": [
      "nadam      | time[s]: 11.2149 | out-of-sample=0.6114\n",
      "CPU times: user 8.55 s, sys: 422 ms, total: 8.97 s\n",
      "Wall time: 11.3 s\n"
     ]
    }
   ],
   "source": [
    "%%time\n",
    "\n",
    "optimizers = optimizers[4]\n",
    "set_seeds()\n",
    "model = create_model(hl=1, hu=128,\n",
    "                     dropout=True, rate=0.3,\n",
    "                     regularize=False, reg=l2(0.001),\n",
    "                     optimizer=optimizer\n",
    "                    )\n",
    "\n",
    "t0 = time.time()\n",
    "\n",
    "h = model.fit(train_[cols], train['d'],\n",
    "              epochs=50, verbose=False,\n",
    "              validation_split=0.2, shuffle=False,\n",
    "              class_weight=cw(train))\n",
    "\n",
    "t1 = time.time()\n",
    "t = t1 - t0\n",
    "\n",
    "acc_te = h.history['val_accuracy'][-1]\n",
    "\n",
    "out = f'{optimizer:10s} | time[s]: {t:.4f} | out-of-sample={acc_te:.4f}'\n",
    "\n",
    "print(out)"
   ]
  },
  {
   "cell_type": "code",
   "execution_count": 100,
   "metadata": {
    "id": "YruW7Hvqrj9V"
   },
   "outputs": [],
   "source": []
  }
 ],
 "metadata": {
  "colab": {
   "authorship_tag": "ABX9TyO8zS/NoomH0u/s6k2P/LkJ",
   "collapsed_sections": [],
   "include_colab_link": true,
   "name": "01.DenseNeutralNetwork_FX.ipynb",
   "provenance": []
  },
  "kernelspec": {
   "display_name": "Python 3 (ipykernel)",
   "language": "python",
   "name": "python3"
  },
  "language_info": {
   "codemirror_mode": {
    "name": "ipython",
    "version": 3
   },
   "file_extension": ".py",
   "mimetype": "text/x-python",
   "name": "python",
   "nbconvert_exporter": "python",
   "pygments_lexer": "ipython3",
   "version": "3.9.7"
  }
 },
 "nbformat": 4,
 "nbformat_minor": 1
}
