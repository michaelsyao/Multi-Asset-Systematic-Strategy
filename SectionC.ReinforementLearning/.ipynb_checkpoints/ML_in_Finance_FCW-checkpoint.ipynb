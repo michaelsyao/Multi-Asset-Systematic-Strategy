{
 "cells": [
  {
   "cell_type": "markdown",
   "metadata": {},
   "source": [
    "# Financial Cliff Walking Problem"
   ]
  },
  {
   "cell_type": "markdown",
   "metadata": {},
   "source": [
    "Consider an over-simplified model of a household's finances. Let $S_t$ be the amount of money the household has at time $t$. We assume for simplicity that $S_t$ can only take values in a discrete set $\\{S^{(i)}\\}_{i=0}^{N-1}$. \n",
    "\n",
    "The account has to be maintained for $T$ time steps, after which it should be closed - $T$ is the planning horizon. The zero-level $S^{(0)}=0$ is a bankruptcy level - it has to be avoided, as reaching it means inability to pay on household liabilities. \n",
    "\n",
    "At each step, the agent can deposit to the account $S^{(i)} \\rightarrow S^{(i+1)}$ (action $a_+$), withdraw from the account $S^{(i)} \\rightarrow S^{(i-1)}$, (action $a_-$), or keep the same amount $S^{(i)} \\rightarrow S^{(i)}$, (action $a_0$). The initial amount in the account is zero. \n",
    "\n",
    "For any step before the final step $T$, if the agent moves to the zero level  $S_0 = 0$, it gets a negative reward of $-100$, and the episode terminates. Otherwise, it continues for all $T$ steps. Any action not leading to the zero level gets a negative reward of $-1$. At $T$, if the final state is $S_T>0$, the reward is $-10$, but if the account goes back to zero exactly at time $T$, i.e. $S_T=0$, then the last action gets a positive reward of $+10$. \n",
    "\n",
    "The learning task is to maximize the total reward over $T$ time steps. The RL agent has to learn the optimal depository policy online by trying different actions during a training episode. Note that while this is a time-dependent problem, we can map it on to a stationary problem with an episodic task and a target state, such as the original cliff walking problem in Sutton-Barto."
   ]
  },
  {
   "cell_type": "markdown",
   "metadata": {},
   "source": [
    "<img src=\"The-cliff-walking-task.jpg\">"
   ]
  },
  {
   "cell_type": "markdown",
   "metadata": {},
   "source": [
    "### Import the necessary libraries"
   ]
  },
  {
   "cell_type": "code",
   "execution_count": 1,
   "metadata": {},
   "outputs": [
    {
     "ename": "ModuleNotFoundError",
     "evalue": "No module named 'tqdm'",
     "output_type": "error",
     "traceback": [
      "\u001b[1;31m---------------------------------------------------------------------------\u001b[0m",
      "\u001b[1;31mModuleNotFoundError\u001b[0m                       Traceback (most recent call last)",
      "Input \u001b[1;32mIn [1]\u001b[0m, in \u001b[0;36m<cell line: 5>\u001b[1;34m()\u001b[0m\n\u001b[0;32m      1\u001b[0m \u001b[38;5;28;01mimport\u001b[39;00m \u001b[38;5;21;01mnumpy\u001b[39;00m \u001b[38;5;28;01mas\u001b[39;00m \u001b[38;5;21;01mnp\u001b[39;00m\n\u001b[0;32m      3\u001b[0m \u001b[38;5;28;01mimport\u001b[39;00m \u001b[38;5;21;01mmatplotlib\u001b[39;00m\u001b[38;5;21;01m.\u001b[39;00m\u001b[38;5;21;01mpyplot\u001b[39;00m \u001b[38;5;28;01mas\u001b[39;00m \u001b[38;5;21;01mplt\u001b[39;00m \n\u001b[1;32m----> 5\u001b[0m \u001b[38;5;28;01mfrom\u001b[39;00m \u001b[38;5;21;01mtqdm\u001b[39;00m \u001b[38;5;28;01mimport\u001b[39;00m tqdm\n",
      "\u001b[1;31mModuleNotFoundError\u001b[0m: No module named 'tqdm'"
     ]
    }
   ],
   "source": [
    "import numpy as np\n",
    "\n",
    "import matplotlib.pyplot as plt \n",
    "\n",
    "from tqdm import tqdm "
   ]
  },
  {
   "cell_type": "code",
   "execution_count": null,
   "metadata": {},
   "outputs": [],
   "source": [
    "%matplotlib inline"
   ]
  },
  {
   "cell_type": "markdown",
   "metadata": {},
   "source": [
    "## Setting Up"
   ]
  },
  {
   "cell_type": "markdown",
   "metadata": {},
   "source": [
    "We assume $N=4$ values of possible funds in the account, and assume $T=12$ time steps. All combinations of state and time can then be represented as a two-dimensional grid of size $N\\times T = 4\\times 12$. A time dependent action value function $Q_t\\left( s_t, a_t\\right)$ with three possible actions, $a_t = \\left\\{a_+, a_-, a_0\\right\\}$, can then be stored as a rank three tensor of dimension $4\\times 12 \\times 3$."
   ]
  },
  {
   "cell_type": "markdown",
   "metadata": {},
   "source": [
    "### Set global parameters"
   ]
  },
  {
   "cell_type": "code",
   "execution_count": 21,
   "metadata": {},
   "outputs": [],
   "source": [
    "WORLD_HEIGHT = 4 # The number of states\n",
    "WORLD_WIDTH = 12 # The number of time steps"
   ]
  },
  {
   "cell_type": "code",
   "execution_count": 15,
   "metadata": {},
   "outputs": [],
   "source": [
    "EPSILON = 0.1 # Probability for exploration\n",
    "\n",
    "ALPHA = 0.001 # Step size\n",
    "\n",
    "GAMMA = 1 # Discount factor for Q-Learning, Sarsa and Expected Sarsa"
   ]
  },
  {
   "cell_type": "markdown",
   "metadata": {},
   "source": [
    "We assign an integer value representing each action to a variable: `ACTION_UP` is $a_+$ (adding a deposit), `ACTION_DOWN` is $a_-$ (redeeming a deposit) and `ACTION_ZERO` is $a_0$ (leaving the account as it is)."
   ]
  },
  {
   "cell_type": "code",
   "execution_count": 7,
   "metadata": {},
   "outputs": [],
   "source": [
    "ACTION_UP = 1\n",
    "ACTION_DOWN = 2\n",
    "ACTION_ZERO = 0\n",
    "ACTIONS = [ACTION_UP, ACTION_DOWN, ACTION_ZERO]"
   ]
  },
  {
   "cell_type": "markdown",
   "metadata": {},
   "source": [
    "We define the state vectors for the initial and goal states"
   ]
  },
  {
   "cell_type": "code",
   "execution_count": 8,
   "metadata": {},
   "outputs": [],
   "source": [
    "START = [0, 0]\n",
    "GOAL = [0, WORLD_WIDTH-1]"
   ]
  },
  {
   "cell_type": "markdown",
   "metadata": {},
   "source": [
    "### Setting up the environment"
   ]
  },
  {
   "cell_type": "markdown",
   "metadata": {},
   "source": [
    "The step function that describes how the next state is obtained from the current state and the action taken. The function returns the next state and the reward obtained."
   ]
  },
  {
   "cell_type": "code",
   "execution_count": 9,
   "metadata": {},
   "outputs": [],
   "source": [
    "def step(state, action):\n",
    "    i, j = state\n",
    "\n",
    "    if action == ACTION_UP:\n",
    "        next_state = [min(i + 1, WORLD_HEIGHT-1), min(j + 1, WORLD_WIDTH - 1)]\n",
    "    elif action == ACTION_DOWN:\n",
    "        next_state = [max(i - 1, 0), min(j + 1, WORLD_WIDTH - 1)]\n",
    "    elif action == ACTION_ZERO:\n",
    "        next_state = [i, min(j + 1, WORLD_WIDTH - 1)]\n",
    "    else:\n",
    "        raise ValueError(\"action not recognised\")\n",
    "    \n",
    "    # The reward is -1 for actions ACTION_UP and ACTION_DOWN. \n",
    "    # This is done to keep transactions to a minimum.\n",
    "    reward = -1\n",
    "    \n",
    "    # ACTION_ZERO gets a zero reward since we want to minimize the number of transactions\n",
    "    if action == ACTION_ZERO:\n",
    "        reward = 0\n",
    "    \n",
    "    # Exceptions are \n",
    "    # i) If bankruptcy happens before WORLD_WIDTH time steps\n",
    "    # ii) No deposit at initial state\n",
    "    # iii) Redemption at initial state!\n",
    "    # iv) Any action carried out from a bankrupt state\n",
    "    if ((action == ACTION_DOWN and i == 1 and 1 <= j < 10) or (\n",
    "        action == ACTION_ZERO and state == START) or (\n",
    "        action == ACTION_DOWN and state == START )) or (\n",
    "        i == 0 and 1 <= j <= 10):    \n",
    "            reward = -100\n",
    "        \n",
    "    # Next exception is when we get to the final time step.\n",
    "    if (next_state[1] == WORLD_WIDTH - 1): \n",
    "        if (next_state[0] == 0): # Action resulted in ending with zero balance in final time step\n",
    "            reward = 10\n",
    "        else:\n",
    "            reward = -10   \n",
    "        \n",
    "    return next_state, reward"
   ]
  },
  {
   "cell_type": "code",
   "execution_count": 10,
   "metadata": {},
   "outputs": [
    {
     "name": "stdout",
     "output_type": "stream",
     "text": [
      "([1, 1], -1)\n",
      "([1, 4], -1)\n",
      "([0, 6], -100)\n"
     ]
    }
   ],
   "source": [
    "# Check some state, action pairs and the associated reward\n",
    "print(step([0, 0], ACTION_UP))\n",
    "print(step([2, 3], ACTION_DOWN))\n",
    "print(step([1, 5], ACTION_DOWN))"
   ]
  },
  {
   "cell_type": "markdown",
   "metadata": {},
   "source": [
    "### Set up the agent's action policy"
   ]
  },
  {
   "cell_type": "markdown",
   "metadata": {},
   "source": [
    "Given $S_t$ and $Q_t\\left( s_t, a_t\\right)$, this function chooses an action based on the epsilon-greedy algorithm"
   ]
  },
  {
   "cell_type": "code",
   "execution_count": 11,
   "metadata": {},
   "outputs": [],
   "source": [
    "def choose_action(state, q_value, eps=EPSILON):\n",
    "    # With probability `eps', simply choose a random action - 'Exploration'\n",
    "    if np.random.binomial(1, eps) == 1:\n",
    "        action = np.random.choice(ACTIONS)\n",
    "    # Otherwise, choose from the actions with the highest\n",
    "    # q-value for the given state - 'Exploitation'\n",
    "    else:\n",
    "        values_ = q_value[state[0], state[1], :]\n",
    "        action = np.random.choice(\n",
    "            [action_ for action_, value_ in enumerate(values_) \n",
    "                                if value_ == np.max(values_)])\n",
    "    # From the bankrupt state there is no meaningful action, \n",
    "    # so we will assign ACTION_ZERO by convention.\n",
    "    if state[0] == 0 and state[1] > 0:\n",
    "        action = ACTION_ZERO\n",
    "    return action"
   ]
  },
  {
   "cell_type": "markdown",
   "metadata": {},
   "source": [
    "Observe the effect of $Q_t\\left( s_t, a_t\\right)$ & $\\epsilon$ on the distribution of actions taken from a given state: "
   ]
  },
  {
   "cell_type": "code",
   "execution_count": 12,
   "metadata": {
    "scrolled": true
   },
   "outputs": [
    {
     "name": "stdout",
     "output_type": "stream",
     "text": [
      "0\n"
     ]
    }
   ],
   "source": [
    "# If q_value contains only zeroes, the action is always random\n",
    "q_value = np.zeros((WORLD_HEIGHT, WORLD_WIDTH, len(ACTIONS)))\n",
    "print(choose_action([0, 2], q_value, EPSILON))"
   ]
  },
  {
   "cell_type": "code",
   "execution_count": 13,
   "metadata": {},
   "outputs": [
    {
     "name": "stdout",
     "output_type": "stream",
     "text": [
      "action with highest q for state=[1, 4]: 2\n",
      "choices (eps=0): 2 2 2 2 2 2 2 2 2 2\n",
      "choices (eps=1): 2 0 0 1 2 0 1 0 0 2\n",
      "\n",
      "action with highest q for state=[2, 7]: 0\n",
      "choices (eps=0):   0 0 0 0 0 0 0 0 0 0\n",
      "choices (eps=0.5): 0 2 0 0 0 0 0 0 0 2\n"
     ]
    }
   ],
   "source": [
    "q_value = np.zeros((WORLD_HEIGHT, WORLD_WIDTH, len(ACTIONS)))\n",
    "q_value[1, 4, 2] = 1\n",
    "print('action with highest q for state=[1, 4]:', np.argmax(q_value[1, 4]))\n",
    "print('choices (eps=0):', *[choose_action([1, 4], q_value, 0) for i in range(10)])\n",
    "print('choices (eps=1):', *[choose_action([1, 4], q_value, 1) for i in range(10)])\n",
    "\n",
    "q_value[2, 7, 0] = 1\n",
    "print('\\naction with highest q for state=[2, 7]:', np.argmax(q_value[2, 7]))\n",
    "print('choices (eps=0):  ', *[choose_action([2, 7], q_value, 0) for i in range(10)])\n",
    "print('choices (eps=0.5):', *[choose_action([2, 7], q_value, 0.5) for i in range(10)])"
   ]
  },
  {
   "cell_type": "markdown",
   "metadata": {},
   "source": [
    "### Set up the learning algorithms"
   ]
  },
  {
   "cell_type": "markdown",
   "metadata": {},
   "source": [
    "#### Sarsa and Expected Sarsa"
   ]
  },
  {
   "cell_type": "markdown",
   "metadata": {},
   "source": [
    "This function simulates an episode with Sarsa. It takes the state-action value array `q_value` as an argument, initialises the state to `START`, defined above, and updates `q_value` according to the Sarsa algorithm, until the $T$ time steps have passed, or the bankrupt state is reached. The cumulative reward earned is returned."
   ]
  },
  {
   "cell_type": "code",
   "execution_count": 16,
   "metadata": {},
   "outputs": [],
   "source": [
    "def sarsa(q_value, expected=False, step_size=ALPHA, eps=EPSILON):\n",
    "    state = START\n",
    "    action = choose_action(state, q_value, eps)\n",
    "    rewards = 0.0\n",
    "    \n",
    "    while (state[1] != WORLD_WIDTH-1) and not(1 <= state[1] <= 10 and state[0]==0):\n",
    "        next_state, reward = step(state, action)\n",
    "        next_action = choose_action(next_state, q_value, eps)\n",
    "        rewards += reward\n",
    "        if not expected:\n",
    "            target = q_value[next_state[0], next_state[1], next_action]\n",
    "        else:\n",
    "            # Calculate the expected value of the new state\n",
    "            target = 0.0\n",
    "            q_next = q_value[next_state[0], next_state[1], :]\n",
    "            best_actions = np.argwhere(q_next == np.max(q_next))\n",
    "            for action_ in ACTIONS:\n",
    "                if action_ in best_actions:\n",
    "                    target += ((1.0 - eps) / len(best_actions) \n",
    "                               + eps / len(ACTIONS)) * q_value[next_state[0], next_state[1], action_]\n",
    "                else:\n",
    "                    target += eps / len(ACTIONS) * q_value[next_state[0], next_state[1], action_]\n",
    "        target *= GAMMA\n",
    "        q_value[state[0], state[1], action] += step_size * (\n",
    "                reward + target - q_value[state[0], state[1], action])\n",
    "        state = next_state\n",
    "        action = next_action\n",
    "    return rewards"
   ]
  },
  {
   "cell_type": "markdown",
   "metadata": {},
   "source": [
    "#### Q-learning"
   ]
  },
  {
   "cell_type": "markdown",
   "metadata": {},
   "source": [
    "This function simulates an episode with Q-learning. It takes the state-action value array `q_value` as an argument, initialises the state to `START`, defined above, and updates `q_value` according to the Q-learning algorithm, until the $T$ time steps have passed, or the bankrupt state is reached. The cumulative reward earned is returned."
   ]
  },
  {
   "cell_type": "code",
   "execution_count": 17,
   "metadata": {},
   "outputs": [],
   "source": [
    "def q_learning(q_value, step_size=ALPHA, eps=EPSILON):\n",
    "    state = START\n",
    "    rewards = 0.0\n",
    "    while state[1] != WORLD_WIDTH-1 and not(1 <= state[1] <= 10 and state[0]==0):\n",
    "        action = choose_action(state, q_value, eps)\n",
    "        next_state, reward = step(state, action)\n",
    "        rewards += reward\n",
    "        # Q-Learning update\n",
    "        q_value[state[0], state[1], action] += step_size * (\n",
    "                reward + GAMMA * np.max(q_value[next_state[0], next_state[1], :]) -\n",
    "                q_value[state[0], state[1], action])\n",
    "        state = next_state\n",
    "    return rewards"
   ]
  },
  {
   "cell_type": "markdown",
   "metadata": {},
   "source": [
    "#### Set up the epsilon decay"
   ]
  },
  {
   "cell_type": "markdown",
   "metadata": {},
   "source": [
    "We decrease the value of epsilon with each epoch - epsilon must approach zero as the number of episodes increases in order to ensure that the q-value function converges to the optimum with the SARSA algorithm\n",
    "\n",
    "The following figure demonstrates the exponential decay we are going to use."
   ]
  },
  {
   "cell_type": "code",
   "execution_count": 18,
   "metadata": {},
   "outputs": [
    {
     "data": {
      "image/png": "[encoded data removed]",
      "text/plain": [
       "<matplotlib.figure.Figure at 0x10f5de748>"
      ]
     },
     "metadata": {
      "needs_background": "light"
     },
     "output_type": "display_data"
    }
   ],
   "source": [
    "plt.plot([ EPSILON*((1-EPSILON)**(i//40)) for i in range(2000)])\n",
    "plt.xlabel('Episode')\n",
    "plt.ylabel('Epsilon');"
   ]
  },
  {
   "cell_type": "markdown",
   "metadata": {},
   "source": [
    "## Running Sarsa and Q-learning to compare their asymptotic behaviour"
   ]
  },
  {
   "cell_type": "markdown",
   "metadata": {},
   "source": [
    "This function will plot the average (over `runs` independent trials) rewards earned by SARSA and Q-learning after each iteration (up to `episodes`)."
   ]
  },
  {
   "cell_type": "code",
   "execution_count": 19,
   "metadata": {},
   "outputs": [],
   "source": [
    "# Sarsa converges to the safe path, while Q-Learning converges to the optimal path\n",
    "def figure_9_4():\n",
    "    # Number of episodes in each run\n",
    "    episodes = 1500\n",
    "    EPOCH = 40\n",
    "\n",
    "    # Perform 100 independent runs\n",
    "    runs = 100\n",
    "    \n",
    "    # Initialise the rewards arrays\n",
    "    rewards_sarsa = np.zeros(episodes)\n",
    "    rewards_q_learning = np.zeros(episodes)\n",
    "    for r in tqdm(range(runs)):\n",
    "        # Initialise the action value arrays \n",
    "        q_sarsa = np.zeros((WORLD_HEIGHT, WORLD_WIDTH, len(ACTIONS)))\n",
    "        q_q_learning = np.copy(q_sarsa)\n",
    "        \n",
    "        # Update the rewards and action value arrays for each episode\n",
    "        for i in range(0, episodes):\n",
    "            # The value of epsilon is decremented exponentially\n",
    "            # after every EPOCH episodes\n",
    "            eps = EPSILON*((1-EPSILON)**(i//EPOCH))\n",
    "            rewards_sarsa[i] += sarsa(q_sarsa, eps=eps)\n",
    "            rewards_q_learning[i] += q_learning(q_q_learning, eps=eps)\n",
    "\n",
    "    # Averaging over independent runs\n",
    "    rewards_sarsa /= runs\n",
    "    rewards_q_learning /= runs\n",
    "\n",
    "    # Draw reward curves\n",
    "    plt.figure(figsize=(15,7))\n",
    "    plt.plot(rewards_sarsa, label='Sarsa')\n",
    "    plt.plot(rewards_q_learning, label='Q-Learning')\n",
    "    plt.xlabel('Episodes')\n",
    "    plt.ylabel('Sum of rewards during episode')\n",
    "    plt.ylim([-100, 20])\n",
    "    plt.legend()\n",
    "\n",
    "    return q_sarsa, q_q_learning"
   ]
  },
  {
   "cell_type": "code",
   "execution_count": 20,
   "metadata": {
    "scrolled": false
   },
   "outputs": [
    {
     "name": "stderr",
     "output_type": "stream",
     "text": [
      "100%|██████████| 100/100 [06:24<00:00,  3.84s/it]\n"
     ]
    },
    {
     "data": {
      "image/png": "[encoded data removed]",
      "text/plain": [
       "<matplotlib.figure.Figure at 0x11b3abe48>"
      ]
     },
     "metadata": {
      "needs_background": "light"
     },
     "output_type": "display_data"
    }
   ],
   "source": [
    "q_sarsa, q_q_learning = figure_9_4()"
   ]
  },
  {
   "cell_type": "markdown",
   "metadata": {},
   "source": [
    "##### Printing output of the learned policies"
   ]
  },
  {
   "cell_type": "code",
   "execution_count": 22,
   "metadata": {},
   "outputs": [],
   "source": [
    "def print_optimal_policy(q_value):\n",
    "    optimal_policy = []\n",
    "    for i in range(WORLD_HEIGHT-1, -1, -1):\n",
    "        optimal_policy.append([])\n",
    "        for j in range(0, WORLD_WIDTH):\n",
    "            if [i, j] == GOAL:\n",
    "                optimal_policy[-1].append('G')\n",
    "                continue\n",
    "            bestAction = np.argmax(q_value[i, j, :])\n",
    "            \n",
    "            # Action in bankrupt state has been set as Z\n",
    "            if i == 0 and j > 0 and j < WORLD_WIDTH-1:\n",
    "                optimal_policy[-1].append('Z')\n",
    "            elif bestAction == ACTION_UP:\n",
    "                # When i = WORLDHEIGHT - 1, U and Z are identical, so we will use Z\n",
    "                if i == WORLD_HEIGHT-1:\n",
    "                    optimal_policy[-1].append('Z')\n",
    "                else:\n",
    "                    optimal_policy[-1].append('U')\n",
    "            elif bestAction == ACTION_DOWN:\n",
    "                optimal_policy[-1].append('D')\n",
    "            elif bestAction == ACTION_ZERO:\n",
    "                optimal_policy[-1].append('Z')\n",
    "    \n",
    "    for row in optimal_policy:\n",
    "        print(row)"
   ]
  },
  {
   "cell_type": "code",
   "execution_count": 23,
   "metadata": {},
   "outputs": [
    {
     "name": "stdout",
     "output_type": "stream",
     "text": [
      "Sarsa Optimal Policy:\n",
      "['Z', 'Z', 'Z', 'Z', 'Z', 'Z', 'Z', 'Z', 'Z', 'Z', 'Z', 'Z']\n",
      "['Z', 'Z', 'Z', 'Z', 'Z', 'Z', 'Z', 'Z', 'Z', 'D', 'U', 'Z']\n",
      "['Z', 'Z', 'Z', 'Z', 'Z', 'Z', 'Z', 'Z', 'Z', 'Z', 'D', 'Z']\n",
      "['U', 'Z', 'Z', 'Z', 'Z', 'Z', 'Z', 'Z', 'Z', 'Z', 'Z', 'G']\n",
      "Q-Learning Optimal Policy:\n",
      "['Z', 'Z', 'Z', 'Z', 'Z', 'Z', 'Z', 'Z', 'Z', 'Z', 'Z', 'Z']\n",
      "['Z', 'Z', 'Z', 'Z', 'Z', 'Z', 'Z', 'Z', 'Z', 'D', 'Z', 'Z']\n",
      "['Z', 'Z', 'Z', 'Z', 'Z', 'Z', 'Z', 'Z', 'Z', 'Z', 'D', 'Z']\n",
      "['U', 'Z', 'Z', 'Z', 'Z', 'Z', 'Z', 'Z', 'Z', 'Z', 'Z', 'G']\n"
     ]
    }
   ],
   "source": [
    "print('Sarsa Optimal Policy:')\n",
    "print_optimal_policy(q_sarsa)\n",
    "print('Q-Learning Optimal Policy:')\n",
    "print_optimal_policy(q_q_learning)"
   ]
  },
  {
   "cell_type": "code",
   "execution_count": null,
   "metadata": {},
   "outputs": [],
   "source": []
  }
 ],
 "metadata": {
  "kernelspec": {
   "display_name": "Python 3 (ipykernel)",
   "language": "python",
   "name": "python3"
  },
  "language_info": {
   "codemirror_mode": {
    "name": "ipython",
    "version": 3
   },
   "file_extension": ".py",
   "mimetype": "text/x-python",
   "name": "python",
   "nbconvert_exporter": "python",
   "pygments_lexer": "ipython3",
   "version": "3.9.12"
  }
 },
 "nbformat": 4,
 "nbformat_minor": 2
}
