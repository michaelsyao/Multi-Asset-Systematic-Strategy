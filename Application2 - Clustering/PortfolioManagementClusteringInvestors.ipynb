{
 "cells": [
  {
   "cell_type": "markdown",
   "metadata": {
    "_cell_guid": "83708667-4fdc-1563-7b3a-06b6575d2865"
   },
   "source": [
    "\n",
    "# Clustering individuals as per their demographics\n",
    "\n",
    "In this case study, we will use clustering methods to identify different types of investors."
   ]
  },
  {
   "cell_type": "markdown",
   "metadata": {},
   "source": [
    "## Content"
   ]
  },
  {
   "cell_type": "markdown",
   "metadata": {},
   "source": [
    "* [1. Problem Definition](#0)\n",
    "* [2. Getting Started - Load Libraries and Dataset](#1)\n",
    "    * [2.1. Load Libraries](#1.1)    \n",
    "    * [2.2. Load Dataset](#1.2)\n",
    "* [3. Exploratory Data Analysis](#2)\n",
    "    * [3.1 Descriptive Statistics](#2.1)    \n",
    "    * [3.2. Data Visualisation](#2.2)\n",
    "* [4. Data Preparation](#3)\n",
    "    * [4.1 Data Cleaning](#3.1)\n",
    "    * [4.3.Data Transformation](#3.2)  \n",
    "* [5.Evaluate Algorithms and Models](#5)        \n",
    "    * [5.1. k-Means Clustering](#5.1)\n",
    "        * [5.1.1 Finding right number of clusters](#5.1.1)   \n",
    "    * [5.2. Affinity Propagation Clustering](#5.2)\n",
    "    * [5.3. Cluster Evaluation](#5.3)\n",
    "* [6.Cluster Intuition](#6)     \n",
    "    \n",
    "    "
   ]
  },
  {
   "cell_type": "markdown",
   "metadata": {},
   "source": [
    "<a id='0'></a>\n",
    "# 1. Problem Definition"
   ]
  },
  {
   "cell_type": "markdown",
   "metadata": {},
   "source": [
    "The goal of this case study is to build a machine learning model to cluster individuals/investors based on the parameters related to the ability and willingness to take risk. We will focus on using common demographic and financial characteristics to accomplish this.\n",
    "\n",
    "For this case study the data used is from survey of Consumer Finances which is conducted by the Federal Reserve Board, which has been used in the case studies in chapter 5 and chapter 6. "
   ]
  },
  {
   "cell_type": "markdown",
   "metadata": {},
   "source": [
    "<a id='1'></a>\n",
    "# 2. Getting Started- Loading the data and python packages"
   ]
  },
  {
   "cell_type": "markdown",
   "metadata": {},
   "source": [
    "<a id='1.1'></a>\n",
    "## 2.1. Loading the python packages"
   ]
  },
  {
   "cell_type": "code",
   "execution_count": 1,
   "metadata": {
    "_cell_guid": "5d8fee34-f454-2642-8b06-ed719f0317e1"
   },
   "outputs": [],
   "source": [
    "# Load libraries\n",
    "import numpy as np\n",
    "import pandas as pd\n",
    "import matplotlib.pyplot as plt\n",
    "from pandas import read_csv, set_option\n",
    "from pandas.plotting import scatter_matrix\n",
    "import seaborn as sns\n",
    "from sklearn.preprocessing import StandardScaler\n",
    "import datetime\n",
    "\n",
    "#Import Model Packages \n",
    "from sklearn.cluster import KMeans, AgglomerativeClustering,AffinityPropagation\n",
    "from sklearn.metrics import adjusted_mutual_info_score\n",
    "from sklearn import cluster, covariance, manifold\n",
    "\n",
    "\n",
    "#Other Helper Packages and functions\n",
    "import matplotlib.ticker as ticker\n",
    "from itertools import cycle"
   ]
  },
  {
   "cell_type": "markdown",
   "metadata": {},
   "source": [
    "<a id='1.2'></a>\n",
    "## 2.2. Loading the Data"
   ]
  },
  {
   "cell_type": "markdown",
   "metadata": {},
   "source": [
    "The dataset is same as the dataset used, which is further processed to give the following attributes for different investors for the year 2007."
   ]
  },
  {
   "cell_type": "code",
   "execution_count": 2,
   "metadata": {},
   "outputs": [],
   "source": [
    "# load dataset\n",
    "dataset = pd.read_excel('ProcessedData.xlsx')"
   ]
  },
  {
   "cell_type": "code",
   "execution_count": 3,
   "metadata": {},
   "outputs": [],
   "source": [
    "#Diable the warnings\n",
    "import warnings\n",
    "warnings.filterwarnings('ignore')"
   ]
  },
  {
   "cell_type": "code",
   "execution_count": 4,
   "metadata": {},
   "outputs": [
    {
     "data": {
      "text/plain": [
       "pandas.core.frame.DataFrame"
      ]
     },
     "execution_count": 4,
     "metadata": {},
     "output_type": "execute_result"
    }
   ],
   "source": [
    "type(dataset)"
   ]
  },
  {
   "cell_type": "markdown",
   "metadata": {
    "_cell_guid": "df6a4523-b385-69ee-c933-592826d81431"
   },
   "source": [
    "<a id='2'></a>\n",
    "# 3. Exploratory Data Analysis"
   ]
  },
  {
   "cell_type": "markdown",
   "metadata": {},
   "source": [
    "<a id='2.1'></a>\n",
    "## 3.1. Descriptive Statistics"
   ]
  },
  {
   "cell_type": "code",
   "execution_count": 5,
   "metadata": {
    "_cell_guid": "52f85dc2-0f91-3c50-400e-ddc38bea966b"
   },
   "outputs": [
    {
     "data": {
      "text/plain": [
       "(3866, 13)"
      ]
     },
     "execution_count": 5,
     "metadata": {},
     "output_type": "execute_result"
    }
   ],
   "source": [
    "# shape\n",
    "dataset.shape"
   ]
  },
  {
   "cell_type": "code",
   "execution_count": 6,
   "metadata": {},
   "outputs": [
    {
     "data": {
      "text/html": [
       "<div>\n",
       "<style scoped>\n",
       "    .dataframe tbody tr th:only-of-type {\n",
       "        vertical-align: middle;\n",
       "    }\n",
       "\n",
       "    .dataframe tbody tr th {\n",
       "        vertical-align: top;\n",
       "    }\n",
       "\n",
       "    .dataframe thead th {\n",
       "        text-align: right;\n",
       "    }\n",
       "</style>\n",
       "<table border=\"1\" class=\"dataframe\">\n",
       "  <thead>\n",
       "    <tr style=\"text-align: right;\">\n",
       "      <th></th>\n",
       "      <th>ID</th>\n",
       "      <th>AGE</th>\n",
       "      <th>EDUC</th>\n",
       "      <th>MARRIED</th>\n",
       "      <th>KIDS</th>\n",
       "      <th>LIFECL</th>\n",
       "      <th>OCCAT</th>\n",
       "      <th>RISK</th>\n",
       "      <th>HHOUSES</th>\n",
       "      <th>WSAVED</th>\n",
       "      <th>SPENDMOR</th>\n",
       "      <th>NWCAT</th>\n",
       "      <th>INCCL</th>\n",
       "    </tr>\n",
       "  </thead>\n",
       "  <tbody>\n",
       "    <tr>\n",
       "      <th>0</th>\n",
       "      <td>1</td>\n",
       "      <td>3</td>\n",
       "      <td>2</td>\n",
       "      <td>1</td>\n",
       "      <td>0</td>\n",
       "      <td>2</td>\n",
       "      <td>1</td>\n",
       "      <td>3</td>\n",
       "      <td>1</td>\n",
       "      <td>1</td>\n",
       "      <td>5</td>\n",
       "      <td>3</td>\n",
       "      <td>4</td>\n",
       "    </tr>\n",
       "    <tr>\n",
       "      <th>1</th>\n",
       "      <td>2</td>\n",
       "      <td>4</td>\n",
       "      <td>4</td>\n",
       "      <td>1</td>\n",
       "      <td>2</td>\n",
       "      <td>5</td>\n",
       "      <td>2</td>\n",
       "      <td>3</td>\n",
       "      <td>0</td>\n",
       "      <td>2</td>\n",
       "      <td>5</td>\n",
       "      <td>5</td>\n",
       "      <td>5</td>\n",
       "    </tr>\n",
       "    <tr>\n",
       "      <th>2</th>\n",
       "      <td>3</td>\n",
       "      <td>3</td>\n",
       "      <td>1</td>\n",
       "      <td>1</td>\n",
       "      <td>2</td>\n",
       "      <td>3</td>\n",
       "      <td>2</td>\n",
       "      <td>2</td>\n",
       "      <td>1</td>\n",
       "      <td>2</td>\n",
       "      <td>4</td>\n",
       "      <td>4</td>\n",
       "      <td>4</td>\n",
       "    </tr>\n",
       "    <tr>\n",
       "      <th>3</th>\n",
       "      <td>4</td>\n",
       "      <td>3</td>\n",
       "      <td>1</td>\n",
       "      <td>1</td>\n",
       "      <td>2</td>\n",
       "      <td>3</td>\n",
       "      <td>2</td>\n",
       "      <td>2</td>\n",
       "      <td>1</td>\n",
       "      <td>2</td>\n",
       "      <td>4</td>\n",
       "      <td>3</td>\n",
       "      <td>4</td>\n",
       "    </tr>\n",
       "    <tr>\n",
       "      <th>4</th>\n",
       "      <td>5</td>\n",
       "      <td>4</td>\n",
       "      <td>3</td>\n",
       "      <td>1</td>\n",
       "      <td>1</td>\n",
       "      <td>5</td>\n",
       "      <td>1</td>\n",
       "      <td>2</td>\n",
       "      <td>1</td>\n",
       "      <td>3</td>\n",
       "      <td>3</td>\n",
       "      <td>5</td>\n",
       "      <td>5</td>\n",
       "    </tr>\n",
       "  </tbody>\n",
       "</table>\n",
       "</div>"
      ],
      "text/plain": [
       "   ID  AGE  EDUC  MARRIED  KIDS  LIFECL  OCCAT  RISK  HHOUSES  WSAVED  SPENDMOR  NWCAT  INCCL\n",
       "0   1    3     2        1     0       2      1     3        1       1         5      3      4\n",
       "1   2    4     4        1     2       5      2     3        0       2         5      5      5\n",
       "2   3    3     1        1     2       3      2     2        1       2         4      4      4\n",
       "3   4    3     1        1     2       3      2     2        1       2         4      3      4\n",
       "4   5    4     3        1     1       5      1     2        1       3         3      5      5"
      ]
     },
     "execution_count": 6,
     "metadata": {},
     "output_type": "execute_result"
    }
   ],
   "source": [
    "# peek at data\n",
    "set_option('display.width', 100)\n",
    "dataset.head(5)"
   ]
  },
  {
   "attachments": {},
   "cell_type": "markdown",
   "metadata": {},
   "source": [
    "As we can see in the table above, there are 12 attributes for each of the individuals. These attributes can be categorized as demographic, financial and behavioral attributes. "
   ]
  },
  {
   "cell_type": "code",
   "execution_count": 7,
   "metadata": {
    "_cell_guid": "7bffeec0-5bbc-fffb-18f2-3da56b862ca3"
   },
   "outputs": [
    {
     "data": {
      "text/html": [
       "<div>\n",
       "<style scoped>\n",
       "    .dataframe tbody tr th:only-of-type {\n",
       "        vertical-align: middle;\n",
       "    }\n",
       "\n",
       "    .dataframe tbody tr th {\n",
       "        vertical-align: top;\n",
       "    }\n",
       "\n",
       "    .dataframe thead th {\n",
       "        text-align: right;\n",
       "    }\n",
       "</style>\n",
       "<table border=\"1\" class=\"dataframe\">\n",
       "  <thead>\n",
       "    <tr style=\"text-align: right;\">\n",
       "      <th></th>\n",
       "      <th>ID</th>\n",
       "      <th>AGE</th>\n",
       "      <th>EDUC</th>\n",
       "      <th>MARRIED</th>\n",
       "      <th>KIDS</th>\n",
       "      <th>LIFECL</th>\n",
       "      <th>OCCAT</th>\n",
       "      <th>RISK</th>\n",
       "      <th>HHOUSES</th>\n",
       "      <th>WSAVED</th>\n",
       "      <th>SPENDMOR</th>\n",
       "      <th>NWCAT</th>\n",
       "      <th>INCCL</th>\n",
       "    </tr>\n",
       "  </thead>\n",
       "  <tbody>\n",
       "    <tr>\n",
       "      <th>count</th>\n",
       "      <td>3866.000</td>\n",
       "      <td>3866.000</td>\n",
       "      <td>3866.000</td>\n",
       "      <td>3866.000</td>\n",
       "      <td>3866.000</td>\n",
       "      <td>3866.000</td>\n",
       "      <td>3866.000</td>\n",
       "      <td>3866.000</td>\n",
       "      <td>3866.000</td>\n",
       "      <td>3866.000</td>\n",
       "      <td>3866.000</td>\n",
       "      <td>3866.000</td>\n",
       "      <td>3866.000</td>\n",
       "    </tr>\n",
       "    <tr>\n",
       "      <th>mean</th>\n",
       "      <td>1933.500</td>\n",
       "      <td>3.107</td>\n",
       "      <td>2.906</td>\n",
       "      <td>1.353</td>\n",
       "      <td>0.938</td>\n",
       "      <td>3.697</td>\n",
       "      <td>1.742</td>\n",
       "      <td>3.043</td>\n",
       "      <td>0.717</td>\n",
       "      <td>2.446</td>\n",
       "      <td>3.561</td>\n",
       "      <td>2.976</td>\n",
       "      <td>3.671</td>\n",
       "    </tr>\n",
       "    <tr>\n",
       "      <th>std</th>\n",
       "      <td>1116.162</td>\n",
       "      <td>1.513</td>\n",
       "      <td>1.066</td>\n",
       "      <td>0.478</td>\n",
       "      <td>1.249</td>\n",
       "      <td>1.618</td>\n",
       "      <td>0.934</td>\n",
       "      <td>0.879</td>\n",
       "      <td>0.451</td>\n",
       "      <td>0.743</td>\n",
       "      <td>1.304</td>\n",
       "      <td>1.463</td>\n",
       "      <td>1.184</td>\n",
       "    </tr>\n",
       "    <tr>\n",
       "      <th>min</th>\n",
       "      <td>1.000</td>\n",
       "      <td>1.000</td>\n",
       "      <td>1.000</td>\n",
       "      <td>1.000</td>\n",
       "      <td>0.000</td>\n",
       "      <td>1.000</td>\n",
       "      <td>1.000</td>\n",
       "      <td>1.000</td>\n",
       "      <td>0.000</td>\n",
       "      <td>1.000</td>\n",
       "      <td>1.000</td>\n",
       "      <td>1.000</td>\n",
       "      <td>1.000</td>\n",
       "    </tr>\n",
       "    <tr>\n",
       "      <th>25%</th>\n",
       "      <td>967.250</td>\n",
       "      <td>2.000</td>\n",
       "      <td>2.000</td>\n",
       "      <td>1.000</td>\n",
       "      <td>0.000</td>\n",
       "      <td>3.000</td>\n",
       "      <td>1.000</td>\n",
       "      <td>2.000</td>\n",
       "      <td>0.000</td>\n",
       "      <td>2.000</td>\n",
       "      <td>2.000</td>\n",
       "      <td>2.000</td>\n",
       "      <td>3.000</td>\n",
       "    </tr>\n",
       "    <tr>\n",
       "      <th>50%</th>\n",
       "      <td>1933.500</td>\n",
       "      <td>3.000</td>\n",
       "      <td>3.000</td>\n",
       "      <td>1.000</td>\n",
       "      <td>0.000</td>\n",
       "      <td>3.000</td>\n",
       "      <td>1.000</td>\n",
       "      <td>3.000</td>\n",
       "      <td>1.000</td>\n",
       "      <td>3.000</td>\n",
       "      <td>4.000</td>\n",
       "      <td>3.000</td>\n",
       "      <td>4.000</td>\n",
       "    </tr>\n",
       "    <tr>\n",
       "      <th>75%</th>\n",
       "      <td>2899.750</td>\n",
       "      <td>4.000</td>\n",
       "      <td>4.000</td>\n",
       "      <td>2.000</td>\n",
       "      <td>2.000</td>\n",
       "      <td>5.000</td>\n",
       "      <td>3.000</td>\n",
       "      <td>4.000</td>\n",
       "      <td>1.000</td>\n",
       "      <td>3.000</td>\n",
       "      <td>5.000</td>\n",
       "      <td>4.000</td>\n",
       "      <td>5.000</td>\n",
       "    </tr>\n",
       "    <tr>\n",
       "      <th>max</th>\n",
       "      <td>3866.000</td>\n",
       "      <td>6.000</td>\n",
       "      <td>4.000</td>\n",
       "      <td>2.000</td>\n",
       "      <td>8.000</td>\n",
       "      <td>6.000</td>\n",
       "      <td>4.000</td>\n",
       "      <td>4.000</td>\n",
       "      <td>1.000</td>\n",
       "      <td>3.000</td>\n",
       "      <td>5.000</td>\n",
       "      <td>5.000</td>\n",
       "      <td>5.000</td>\n",
       "    </tr>\n",
       "  </tbody>\n",
       "</table>\n",
       "</div>"
      ],
      "text/plain": [
       "             ID       AGE      EDUC   MARRIED      KIDS    LIFECL     OCCAT      RISK   HHOUSES  \\\n",
       "count  3866.000  3866.000  3866.000  3866.000  3866.000  3866.000  3866.000  3866.000  3866.000   \n",
       "mean   1933.500     3.107     2.906     1.353     0.938     3.697     1.742     3.043     0.717   \n",
       "std    1116.162     1.513     1.066     0.478     1.249     1.618     0.934     0.879     0.451   \n",
       "min       1.000     1.000     1.000     1.000     0.000     1.000     1.000     1.000     0.000   \n",
       "25%     967.250     2.000     2.000     1.000     0.000     3.000     1.000     2.000     0.000   \n",
       "50%    1933.500     3.000     3.000     1.000     0.000     3.000     1.000     3.000     1.000   \n",
       "75%    2899.750     4.000     4.000     2.000     2.000     5.000     3.000     4.000     1.000   \n",
       "max    3866.000     6.000     4.000     2.000     8.000     6.000     4.000     4.000     1.000   \n",
       "\n",
       "         WSAVED  SPENDMOR     NWCAT     INCCL  \n",
       "count  3866.000  3866.000  3866.000  3866.000  \n",
       "mean      2.446     3.561     2.976     3.671  \n",
       "std       0.743     1.304     1.463     1.184  \n",
       "min       1.000     1.000     1.000     1.000  \n",
       "25%       2.000     2.000     2.000     3.000  \n",
       "50%       3.000     4.000     3.000     4.000  \n",
       "75%       3.000     5.000     4.000     5.000  \n",
       "max       3.000     5.000     5.000     5.000  "
      ]
     },
     "execution_count": 7,
     "metadata": {},
     "output_type": "execute_result"
    }
   ],
   "source": [
    "# describe data\n",
    "set_option('precision', 3)\n",
    "dataset.describe()"
   ]
  },
  {
   "cell_type": "markdown",
   "metadata": {},
   "source": [
    "<a id='2.2'></a>\n",
    "## 3.2. Data Visualization"
   ]
  },
  {
   "cell_type": "markdown",
   "metadata": {},
   "source": [
    "Let us look at the correlation. We will take a detailed look into the visualization post clustering."
   ]
  },
  {
   "cell_type": "code",
   "execution_count": 8,
   "metadata": {},
   "outputs": [
    {
     "data": {
      "text/plain": [
       "<matplotlib.axes._subplots.AxesSubplot at 0x153aeec8ba8>"
      ]
     },
     "execution_count": 8,
     "metadata": {},
     "output_type": "execute_result"
    },
    {
     "data": {
      "image/png": "[encoded data removed]",
      "text/plain": [
       "<Figure size 1080x1080 with 2 Axes>"
      ]
     },
     "metadata": {
      "needs_background": "light"
     },
     "output_type": "display_data"
    }
   ],
   "source": [
    "# correlation\n",
    "correlation = dataset.corr()\n",
    "plt.figure(figsize=(15,15))\n",
    "plt.title('Correlation Matrix')\n",
    "sns.heatmap(correlation, vmax=1, square=True,annot=True,cmap='cubehelix')"
   ]
  },
  {
   "cell_type": "markdown",
   "metadata": {},
   "source": [
    "As it can be seen by the picture above there is a significant positive correlation between the stocks. "
   ]
  },
  {
   "cell_type": "markdown",
   "metadata": {},
   "source": [
    "<a id='3'></a>\n",
    "## 4. Data Preparation"
   ]
  },
  {
   "cell_type": "markdown",
   "metadata": {},
   "source": [
    "<a id='3.1'></a>\n",
    "## 4.1. Data Cleaning\n",
    "Let us check for the NAs in the rows, either drop them or fill them with the mean of the column."
   ]
  },
  {
   "cell_type": "code",
   "execution_count": 9,
   "metadata": {},
   "outputs": [
    {
     "name": "stdout",
     "output_type": "stream",
     "text": [
      "Null Values = False\n"
     ]
    }
   ],
   "source": [
    "#Checking for any null values and removing the null values'''\n",
    "print('Null Values =',dataset.isnull().values.any())"
   ]
  },
  {
   "cell_type": "markdown",
   "metadata": {},
   "source": [
    "Given there isn't any missing data and the data is already in the categorical format no further data cleaning was performed. The ID column which is not needed is dropeed"
   ]
  },
  {
   "cell_type": "code",
   "execution_count": 10,
   "metadata": {},
   "outputs": [
    {
     "data": {
      "text/html": [
       "<div>\n",
       "<style scoped>\n",
       "    .dataframe tbody tr th:only-of-type {\n",
       "        vertical-align: middle;\n",
       "    }\n",
       "\n",
       "    .dataframe tbody tr th {\n",
       "        vertical-align: top;\n",
       "    }\n",
       "\n",
       "    .dataframe thead th {\n",
       "        text-align: right;\n",
       "    }\n",
       "</style>\n",
       "<table border=\"1\" class=\"dataframe\">\n",
       "  <thead>\n",
       "    <tr style=\"text-align: right;\">\n",
       "      <th></th>\n",
       "      <th>AGE</th>\n",
       "      <th>EDUC</th>\n",
       "      <th>MARRIED</th>\n",
       "      <th>KIDS</th>\n",
       "      <th>LIFECL</th>\n",
       "      <th>OCCAT</th>\n",
       "      <th>RISK</th>\n",
       "      <th>HHOUSES</th>\n",
       "      <th>WSAVED</th>\n",
       "      <th>SPENDMOR</th>\n",
       "      <th>NWCAT</th>\n",
       "      <th>INCCL</th>\n",
       "    </tr>\n",
       "  </thead>\n",
       "  <tbody>\n",
       "    <tr>\n",
       "      <th>0</th>\n",
       "      <td>3</td>\n",
       "      <td>2</td>\n",
       "      <td>1</td>\n",
       "      <td>0</td>\n",
       "      <td>2</td>\n",
       "      <td>1</td>\n",
       "      <td>3</td>\n",
       "      <td>1</td>\n",
       "      <td>1</td>\n",
       "      <td>5</td>\n",
       "      <td>3</td>\n",
       "      <td>4</td>\n",
       "    </tr>\n",
       "    <tr>\n",
       "      <th>1</th>\n",
       "      <td>4</td>\n",
       "      <td>4</td>\n",
       "      <td>1</td>\n",
       "      <td>2</td>\n",
       "      <td>5</td>\n",
       "      <td>2</td>\n",
       "      <td>3</td>\n",
       "      <td>0</td>\n",
       "      <td>2</td>\n",
       "      <td>5</td>\n",
       "      <td>5</td>\n",
       "      <td>5</td>\n",
       "    </tr>\n",
       "    <tr>\n",
       "      <th>2</th>\n",
       "      <td>3</td>\n",
       "      <td>1</td>\n",
       "      <td>1</td>\n",
       "      <td>2</td>\n",
       "      <td>3</td>\n",
       "      <td>2</td>\n",
       "      <td>2</td>\n",
       "      <td>1</td>\n",
       "      <td>2</td>\n",
       "      <td>4</td>\n",
       "      <td>4</td>\n",
       "      <td>4</td>\n",
       "    </tr>\n",
       "    <tr>\n",
       "      <th>3</th>\n",
       "      <td>3</td>\n",
       "      <td>1</td>\n",
       "      <td>1</td>\n",
       "      <td>2</td>\n",
       "      <td>3</td>\n",
       "      <td>2</td>\n",
       "      <td>2</td>\n",
       "      <td>1</td>\n",
       "      <td>2</td>\n",
       "      <td>4</td>\n",
       "      <td>3</td>\n",
       "      <td>4</td>\n",
       "    </tr>\n",
       "    <tr>\n",
       "      <th>4</th>\n",
       "      <td>4</td>\n",
       "      <td>3</td>\n",
       "      <td>1</td>\n",
       "      <td>1</td>\n",
       "      <td>5</td>\n",
       "      <td>1</td>\n",
       "      <td>2</td>\n",
       "      <td>1</td>\n",
       "      <td>3</td>\n",
       "      <td>3</td>\n",
       "      <td>5</td>\n",
       "      <td>5</td>\n",
       "    </tr>\n",
       "  </tbody>\n",
       "</table>\n",
       "</div>"
      ],
      "text/plain": [
       "   AGE  EDUC  MARRIED  KIDS  LIFECL  OCCAT  RISK  HHOUSES  WSAVED  SPENDMOR  NWCAT  INCCL\n",
       "0    3     2        1     0       2      1     3        1       1         5      3      4\n",
       "1    4     4        1     2       5      2     3        0       2         5      5      5\n",
       "2    3     1        1     2       3      2     2        1       2         4      4      4\n",
       "3    3     1        1     2       3      2     2        1       2         4      3      4\n",
       "4    4     3        1     1       5      1     2        1       3         3      5      5"
      ]
     },
     "execution_count": 10,
     "metadata": {},
     "output_type": "execute_result"
    }
   ],
   "source": [
    "X=dataset.copy(\"deep\")\n",
    "X=X.drop(['ID'], axis=1)\n",
    "X.head()"
   ]
  },
  {
   "cell_type": "markdown",
   "metadata": {},
   "source": [
    "<a id='3.2'></a>\n",
    "## 4.2. Data Transformation"
   ]
  },
  {
   "cell_type": "markdown",
   "metadata": {},
   "source": [
    "The data available is comprised of attributes with similar scale. Hence no data transformation is required. "
   ]
  },
  {
   "cell_type": "markdown",
   "metadata": {},
   "source": [
    "<a id='4'></a>\n",
    "# 5. Evaluate Algorithms and Models"
   ]
  },
  {
   "cell_type": "markdown",
   "metadata": {},
   "source": [
    "In this step, we will look at the following models and perform further analysis and visualization.\n",
    "\n",
    "1. K-means\n",
    "2. Affinity Propagation"
   ]
  },
  {
   "cell_type": "markdown",
   "metadata": {},
   "source": [
    "<a id='5.1'></a>\n",
    "## 5.1. K-Means Clustering\n"
   ]
  },
  {
   "cell_type": "markdown",
   "metadata": {},
   "source": [
    "In this step we look at the following metrices to get the optimum number of clusters\n",
    "\n",
    "1. Sum of square errors (SSE) within clusters\n",
    "2. Silhouette score."
   ]
  },
  {
   "cell_type": "markdown",
   "metadata": {},
   "source": [
    "<a id='5.1.1'></a>\n",
    "### 5.1.1. Finding optimal number of clusters"
   ]
  },
  {
   "cell_type": "markdown",
   "metadata": {},
   "source": [
    "Typically, two metrics are used to evaluate the number of clusters in K-means model.\n",
    "\n",
    "1. Sum of square errors (SSE) within clusters\n",
    "2. Silhouette score\n"
   ]
  },
  {
   "cell_type": "code",
   "execution_count": 13,
   "metadata": {},
   "outputs": [
    {
     "data": {
      "image/png": "[encoded data removed]",
      "text/plain": [
       "<Figure size 720x360 with 1 Axes>"
      ]
     },
     "metadata": {
      "needs_background": "light"
     },
     "output_type": "display_data"
    }
   ],
   "source": [
    "distorsions = []\n",
    "max_loop=40\n",
    "for k in range(2, max_loop):\n",
    "    k_means = KMeans(n_clusters=k)\n",
    "    k_means.fit(X)\n",
    "    distorsions.append(k_means.inertia_)\n",
    "fig = plt.figure(figsize=(10, 5))\n",
    "plt.plot(range(2, max_loop), distorsions)\n",
    "plt.xticks([i for i in range(2, max_loop)], rotation=75)\n",
    "plt.xlabel(\"Number of clusters\")\n",
    "plt.ylabel(\"Sum of Square Error\")\n",
    "plt.grid(True)"
   ]
  },
  {
   "cell_type": "markdown",
   "metadata": {},
   "source": [
    "#### Silhouette score"
   ]
  },
  {
   "cell_type": "code",
   "execution_count": 14,
   "metadata": {},
   "outputs": [
    {
     "data": {
      "image/png": "[encoded data removed]",
      "text/plain": [
       "<Figure size 720x360 with 1 Axes>"
      ]
     },
     "metadata": {
      "needs_background": "light"
     },
     "output_type": "display_data"
    }
   ],
   "source": [
    "from sklearn import metrics\n",
    "\n",
    "silhouette_score = []\n",
    "for k in range(2, max_loop):\n",
    "        kmeans = KMeans(n_clusters=k,  random_state=10, n_init=10, n_jobs=-1)\n",
    "        kmeans.fit(X)        \n",
    "        silhouette_score.append(metrics.silhouette_score(X, kmeans.labels_, random_state=10))\n",
    "fig = plt.figure(figsize=(10, 5))\n",
    "plt.plot(range(2, max_loop), silhouette_score)\n",
    "plt.xticks([i for i in range(2, max_loop)], rotation=75)\n",
    "plt.xlabel(\"Number of clusters\")\n",
    "plt.ylabel(\"Silhouette score\")\n",
    "plt.grid(True)"
   ]
  },
  {
   "cell_type": "markdown",
   "metadata": {},
   "source": [
    "Looking at both the charts above, the optimum number of clusters seem to be around 7. We can see that as the number of clusters increase pass 6, the sum of square of\n",
    "errors within clusters plateaus off. From the second graph, we can see that there are\n",
    "various parts of the graph where a kink can be seen. Since there is not much a difference in SSE after 7 clusters, we would use 7 clusters in the k-means model below."
   ]
  },
  {
   "cell_type": "markdown",
   "metadata": {},
   "source": [
    "<a id='5.1.2'></a>\n",
    "### 5.1.2. Clustering and Visualisation"
   ]
  },
  {
   "cell_type": "code",
   "execution_count": 119,
   "metadata": {},
   "outputs": [],
   "source": [
    "nclust=7"
   ]
  },
  {
   "cell_type": "code",
   "execution_count": 120,
   "metadata": {},
   "outputs": [
    {
     "data": {
      "text/plain": [
       "KMeans(algorithm='auto', copy_x=True, init='k-means++', max_iter=300,\n",
       "       n_clusters=7, n_init=10, n_jobs=None, precompute_distances='auto',\n",
       "       random_state=None, tol=0.0001, verbose=0)"
      ]
     },
     "execution_count": 120,
     "metadata": {},
     "output_type": "execute_result"
    }
   ],
   "source": [
    "#Fit with k-means\n",
    "k_means = cluster.KMeans(n_clusters=nclust)\n",
    "k_means.fit(X)"
   ]
  },
  {
   "cell_type": "code",
   "execution_count": 121,
   "metadata": {},
   "outputs": [],
   "source": [
    "#Extracting labels \n",
    "target_labels = k_means.predict(X)"
   ]
  },
  {
   "cell_type": "markdown",
   "metadata": {},
   "source": [
    "<a id='5.2'></a>\n",
    "## 5.2. Affinity Propagation"
   ]
  },
  {
   "cell_type": "code",
   "execution_count": 64,
   "metadata": {},
   "outputs": [],
   "source": [
    "ap = AffinityPropagation(damping = 0.5, max_iter = 250, affinity = 'euclidean')\n",
    "ap.fit(X)\n",
    "clust_labels2 = ap.predict(X)"
   ]
  },
  {
   "cell_type": "code",
   "execution_count": 65,
   "metadata": {},
   "outputs": [
    {
     "name": "stdout",
     "output_type": "stream",
     "text": [
      "Estimated number of clusters: 161\n"
     ]
    }
   ],
   "source": [
    "cluster_centers_indices = ap.cluster_centers_indices_\n",
    "labels = ap.labels_\n",
    "n_clusters_ = len(cluster_centers_indices)\n",
    "print('Estimated number of clusters: %d' % n_clusters_)"
   ]
  },
  {
   "cell_type": "markdown",
   "metadata": {},
   "source": [
    "<a id='5.3'></a>\n",
    "## 5.3. Cluster Evaluation\n",
    "\n",
    "We evaluate the clusters using Silhouette Coefficient (sklearn.metrics.silhouette_score). Higher Silhouette Coefficient score means a model with better defined clusters. "
   ]
  },
  {
   "cell_type": "code",
   "execution_count": 122,
   "metadata": {},
   "outputs": [
    {
     "name": "stdout",
     "output_type": "stream",
     "text": [
      "km 0.170585217843582\n",
      "ap 0.09736878398868973\n"
     ]
    }
   ],
   "source": [
    "from sklearn import metrics\n",
    "print(\"km\", metrics.silhouette_score(X, k_means.labels_, metric='euclidean'))\n",
    "print(\"ap\", metrics.silhouette_score(X, ap.labels_, metric='euclidean'))"
   ]
  },
  {
   "cell_type": "markdown",
   "metadata": {},
   "source": [
    "k-means has much higher Silhouette Coefficient as compared to the affinity propagation. "
   ]
  },
  {
   "cell_type": "markdown",
   "metadata": {},
   "source": [
    "<a id='6'></a>\n",
    "# 6. Cluster Intuition\n",
    "In the next step, we will check each cluster and understand the intuition behind the clusters. "
   ]
  },
  {
   "cell_type": "code",
   "execution_count": 132,
   "metadata": {},
   "outputs": [
    {
     "data": {
      "text/html": [
       "<div>\n",
       "<style scoped>\n",
       "    .dataframe tbody tr th:only-of-type {\n",
       "        vertical-align: middle;\n",
       "    }\n",
       "\n",
       "    .dataframe tbody tr th {\n",
       "        vertical-align: top;\n",
       "    }\n",
       "\n",
       "    .dataframe thead th {\n",
       "        text-align: right;\n",
       "    }\n",
       "</style>\n",
       "<table border=\"1\" class=\"dataframe\">\n",
       "  <thead>\n",
       "    <tr style=\"text-align: right;\">\n",
       "      <th></th>\n",
       "      <th>AGE</th>\n",
       "      <th>EDUC</th>\n",
       "      <th>MARRIED</th>\n",
       "      <th>KIDS</th>\n",
       "      <th>LIFECL</th>\n",
       "      <th>OCCAT</th>\n",
       "      <th>RISK</th>\n",
       "      <th>HHOUSES</th>\n",
       "      <th>WSAVED</th>\n",
       "      <th>SPENDMOR</th>\n",
       "      <th>NWCAT</th>\n",
       "      <th>INCCL</th>\n",
       "    </tr>\n",
       "    <tr>\n",
       "      <th>cluster</th>\n",
       "      <th></th>\n",
       "      <th></th>\n",
       "      <th></th>\n",
       "      <th></th>\n",
       "      <th></th>\n",
       "      <th></th>\n",
       "      <th></th>\n",
       "      <th></th>\n",
       "      <th></th>\n",
       "      <th></th>\n",
       "      <th></th>\n",
       "      <th></th>\n",
       "    </tr>\n",
       "  </thead>\n",
       "  <tbody>\n",
       "    <tr>\n",
       "      <th>0</th>\n",
       "      <td>2.355</td>\n",
       "      <td>3.349</td>\n",
       "      <td>1.336</td>\n",
       "      <td>0.169</td>\n",
       "      <td>1.833</td>\n",
       "      <td>1.334</td>\n",
       "      <td>2.683</td>\n",
       "      <td>0.865</td>\n",
       "      <td>2.647</td>\n",
       "      <td>3.745</td>\n",
       "      <td>3.589</td>\n",
       "      <td>4.375</td>\n",
       "    </tr>\n",
       "    <tr>\n",
       "      <th>1</th>\n",
       "      <td>4.839</td>\n",
       "      <td>2.158</td>\n",
       "      <td>1.579</td>\n",
       "      <td>0.189</td>\n",
       "      <td>5.621</td>\n",
       "      <td>2.371</td>\n",
       "      <td>3.552</td>\n",
       "      <td>0.709</td>\n",
       "      <td>2.270</td>\n",
       "      <td>3.905</td>\n",
       "      <td>2.362</td>\n",
       "      <td>2.674</td>\n",
       "    </tr>\n",
       "    <tr>\n",
       "      <th>2</th>\n",
       "      <td>4.666</td>\n",
       "      <td>3.458</td>\n",
       "      <td>1.226</td>\n",
       "      <td>0.299</td>\n",
       "      <td>5.351</td>\n",
       "      <td>2.077</td>\n",
       "      <td>2.745</td>\n",
       "      <td>0.942</td>\n",
       "      <td>2.624</td>\n",
       "      <td>3.551</td>\n",
       "      <td>4.515</td>\n",
       "      <td>4.506</td>\n",
       "    </tr>\n",
       "    <tr>\n",
       "      <th>3</th>\n",
       "      <td>1.874</td>\n",
       "      <td>2.350</td>\n",
       "      <td>1.354</td>\n",
       "      <td>2.124</td>\n",
       "      <td>3.373</td>\n",
       "      <td>1.452</td>\n",
       "      <td>3.416</td>\n",
       "      <td>0.475</td>\n",
       "      <td>2.205</td>\n",
       "      <td>4.426</td>\n",
       "      <td>1.657</td>\n",
       "      <td>3.024</td>\n",
       "    </tr>\n",
       "    <tr>\n",
       "      <th>4</th>\n",
       "      <td>2.520</td>\n",
       "      <td>3.610</td>\n",
       "      <td>1.102</td>\n",
       "      <td>2.307</td>\n",
       "      <td>3.147</td>\n",
       "      <td>1.480</td>\n",
       "      <td>2.502</td>\n",
       "      <td>0.952</td>\n",
       "      <td>2.686</td>\n",
       "      <td>3.519</td>\n",
       "      <td>4.294</td>\n",
       "      <td>4.717</td>\n",
       "    </tr>\n",
       "    <tr>\n",
       "      <th>5</th>\n",
       "      <td>1.811</td>\n",
       "      <td>2.746</td>\n",
       "      <td>1.649</td>\n",
       "      <td>0.002</td>\n",
       "      <td>1.354</td>\n",
       "      <td>1.627</td>\n",
       "      <td>3.226</td>\n",
       "      <td>0.323</td>\n",
       "      <td>2.367</td>\n",
       "      <td>3.462</td>\n",
       "      <td>1.527</td>\n",
       "      <td>2.744</td>\n",
       "    </tr>\n",
       "    <tr>\n",
       "      <th>6</th>\n",
       "      <td>1.983</td>\n",
       "      <td>2.525</td>\n",
       "      <td>1.252</td>\n",
       "      <td>1.971</td>\n",
       "      <td>3.288</td>\n",
       "      <td>1.390</td>\n",
       "      <td>3.225</td>\n",
       "      <td>0.571</td>\n",
       "      <td>2.245</td>\n",
       "      <td>1.874</td>\n",
       "      <td>1.913</td>\n",
       "      <td>3.380</td>\n",
       "    </tr>\n",
       "  </tbody>\n",
       "</table>\n",
       "</div>"
      ],
      "text/plain": [
       "           AGE   EDUC  MARRIED   KIDS  LIFECL  OCCAT   RISK  HHOUSES  WSAVED  SPENDMOR  NWCAT  \\\n",
       "cluster                                                                                         \n",
       "0        2.355  3.349    1.336  0.169   1.833  1.334  2.683    0.865   2.647     3.745  3.589   \n",
       "1        4.839  2.158    1.579  0.189   5.621  2.371  3.552    0.709   2.270     3.905  2.362   \n",
       "2        4.666  3.458    1.226  0.299   5.351  2.077  2.745    0.942   2.624     3.551  4.515   \n",
       "3        1.874  2.350    1.354  2.124   3.373  1.452  3.416    0.475   2.205     4.426  1.657   \n",
       "4        2.520  3.610    1.102  2.307   3.147  1.480  2.502    0.952   2.686     3.519  4.294   \n",
       "5        1.811  2.746    1.649  0.002   1.354  1.627  3.226    0.323   2.367     3.462  1.527   \n",
       "6        1.983  2.525    1.252  1.971   3.288  1.390  3.225    0.571   2.245     1.874  1.913   \n",
       "\n",
       "         INCCL  \n",
       "cluster         \n",
       "0        4.375  \n",
       "1        2.674  \n",
       "2        4.506  \n",
       "3        3.024  \n",
       "4        4.717  \n",
       "5        2.744  \n",
       "6        3.380  "
      ]
     },
     "execution_count": 132,
     "metadata": {},
     "output_type": "execute_result"
    }
   ],
   "source": [
    "cluster_output= pd.concat([pd.DataFrame(X), pd.DataFrame(k_means.labels_, columns = ['cluster'])],axis = 1)\n",
    "output=cluster_output.groupby('cluster').mean()\n",
    "output"
   ]
  },
  {
   "cell_type": "markdown",
   "metadata": {},
   "source": [
    "### Demographics Features"
   ]
  },
  {
   "cell_type": "code",
   "execution_count": 133,
   "metadata": {},
   "outputs": [
    {
     "data": {
      "image/png": "[encoded data removed]",
      "text/plain": [
       "<Figure size 1296x360 with 1 Axes>"
      ]
     },
     "metadata": {
      "needs_background": "light"
     },
     "output_type": "display_data"
    }
   ],
   "source": [
    "output[['AGE','EDUC','MARRIED','KIDS','LIFECL','OCCAT']].plot.bar(rot=0, figsize=(18,5));"
   ]
  },
  {
   "cell_type": "markdown",
   "metadata": {},
   "source": [
    "The plot here shows the average value of the attributes for each of the clusters. For\n",
    "example, comparing cluster 0 and cluster 1, cluster 0 has lower average age, yet higher\n",
    "average education. In terms of marriage and number of children, these two clusters\n",
    "are similar. So, the individuals in cluster 0 will on an average have higher risk toler‐\n",
    "ance as compared to the individuals in cluster 1, based on the demographic attributes."
   ]
  },
  {
   "cell_type": "markdown",
   "metadata": {},
   "source": [
    "### Financial Features and Features related to willingness to take risk"
   ]
  },
  {
   "cell_type": "code",
   "execution_count": 134,
   "metadata": {
    "scrolled": true
   },
   "outputs": [
    {
     "data": {
      "image/png": "[encoded data removed]",
      "text/plain": [
       "<Figure size 1296x360 with 1 Axes>"
      ]
     },
     "metadata": {
      "needs_background": "light"
     },
     "output_type": "display_data"
    }
   ],
   "source": [
    "output[['HHOUSES','NWCAT','INCCL','WSAVED','SPENDMOR','RISK']].plot.bar(rot=0, figsize=(18,5));"
   ]
  },
  {
   "cell_type": "markdown",
   "metadata": {},
   "source": [
    "The plot here shows the average value of the attributes for each of the cluster on the\n",
    "financial and behavioral attributes. For example, comparing cluster 0 and cluster 1,\n",
    "cluster 0 has higher average house ownership, higher average net worth and income,\n",
    "and a lower willingness to take risk. In terms of saving vs. income comparison and\n",
    "willingness to save, the two clusters are comparable. Therefore, we can posit that the\n",
    "individuals in cluster 0 will, on average, have a higher ability, yet lower willingness, to\n",
    "take risk compared with cluster 1."
   ]
  },
  {
   "cell_type": "code",
   "execution_count": 135,
   "metadata": {},
   "outputs": [
    {
     "data": {
      "text/plain": [
       "<matplotlib.axes._subplots.AxesSubplot at 0x1efad2b29e8>"
      ]
     },
     "execution_count": 135,
     "metadata": {},
     "output_type": "execute_result"
    },
    {
     "data": {
      "image/png": "[encoded data removed]",
      "text/plain": [
       "<Figure size 432x288 with 2 Axes>"
      ]
     },
     "metadata": {
      "needs_background": "light"
     },
     "output_type": "display_data"
    }
   ],
   "source": [
    "sns.heatmap(output.T)"
   ]
  },
  {
   "cell_type": "markdown",
   "metadata": {},
   "source": [
    "Combining the information from the demographics, financial, and behavioral\n",
    "attributes for cluster 0 and cluster 1, the overall ability to take risk for individual clus‐\n",
    "ter 0 is higher as compared to cluster 1. Performing similar analysis across all other\n",
    "clusters, we summarize the results in the table below. The risk tolerance column rep‐\n",
    "resents the subjective assessment of the risk tolerance of each of the clusters.\n",
    "\n",
    "| Cluster| Features | Risk Capacity |\n",
    "| --- | --- | --- |\n",
    "| Cluster 0\t | Low Age, High Networth and Income, Less risky life category, willingness to spend more | High |\n",
    "| Cluster 1\t | High Age, low net worth and Income, highly risky life category, Willing ness to take risk, low education | High |\n",
    "| Cluster 2\t | High Age, high net worth and Income, highly risky life category, Willing ness to to take risk, own house | Medium |\n",
    "| Cluster 3\t | \tLow age, very low income and net worth, high willingness to take risk, many kids | Low |\n",
    "| Cluster 4\t | Medium age, very high income and net worth, high willingness to take risk, many kids, own house | High |\n",
    "| Cluster 5\t | Low age, very low income and net worth, high willingness to take risk, no kids | Medium |\n",
    "| Cluster 6\t | Low age, medium income and net worth, high willingness to take risk, many kids, own house | Low |\n"
   ]
  },
  {
   "cell_type": "markdown",
   "metadata": {},
   "source": [
    "**_Conclusion_**"
   ]
  },
  {
   "cell_type": "markdown",
   "metadata": {},
   "source": [
    "One of the key takeaways from this case study is the approach to understand the cluster intuition. We used visualization techniques to understand the expected behavior of a cluster member by qualitatively interpreting mean values of the variables in each\n",
    "cluster. \n",
    "\n",
    "We demonstrate the efficiency of the clustering technique in discovering the natural intuitive groups of different investors based on their risk tolerance.\n",
    "\n",
    "Given, the clustering algorithms can successfully group investors based on different factors, such as age, income, and risk tolerance, it can further\n",
    "used by portfolio managers to understand the investor’s behavior and standardize the portfolio allocation and rebalancing across the clusters, making the investment management process faster and effective."
   ]
  }
 ],
 "metadata": {
  "_change_revision": 206,
  "_is_fork": false,
  "kernelspec": {
   "display_name": "Python 3",
   "language": "python",
   "name": "python3"
  },
  "language_info": {
   "codemirror_mode": {
    "name": "ipython",
    "version": 3
   },
   "file_extension": ".py",
   "mimetype": "text/x-python",
   "name": "python",
   "nbconvert_exporter": "python",
   "pygments_lexer": "ipython3",
   "version": "3.7.3"
  }
 },
 "nbformat": 4,
 "nbformat_minor": 1
}
